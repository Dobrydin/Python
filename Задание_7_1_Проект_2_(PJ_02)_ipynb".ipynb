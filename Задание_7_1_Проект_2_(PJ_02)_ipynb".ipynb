{
  "cells": [
    {
      "cell_type": "markdown",
      "id": "42289889-bd57-434e-9637-d3e354756316",
      "metadata": {
        "id": "42289889-bd57-434e-9637-d3e354756316"
      },
      "source": [
        "<center> <img src = https://raw.githubusercontent.com/AndreyRysistov/DatasetsForPandas/main/hh%20label.jpg alt=\"drawing\" style=\"width:400px;\">"
      ]
    },
    {
      "cell_type": "markdown",
      "id": "829cb75b-f14e-4ba8-9195-7ba929a7d656",
      "metadata": {
        "tags": [],
        "id": "829cb75b-f14e-4ba8-9195-7ba929a7d656"
      },
      "source": [
        "# <center> Проект: Анализ вакансий из HeadHunter\n",
        "   "
      ]
    },
    {
      "cell_type": "code",
      "execution_count": 1,
      "id": "dccfde33-2452-43fb-a8a5-5c6ebc02a71d",
      "metadata": {
        "id": "dccfde33-2452-43fb-a8a5-5c6ebc02a71d"
      },
      "outputs": [],
      "source": [
        "import pandas as pd\n",
        "import psycopg2\n",
        "import numpy as np"
      ]
    },
    {
      "cell_type": "code",
      "source": [
        "connection = psycopg2.connect(\n",
        "    dbname=dbname,\n",
        "    user=user,\n",
        "    host=host,\n",
        "    password=password,\n",
        "    port=port\n",
        ")"
      ],
      "metadata": {
        "id": "G4X_q8KBf7SF"
      },
      "id": "G4X_q8KBf7SF",
      "execution_count": 3,
      "outputs": []
    },
    {
      "cell_type": "markdown",
      "id": "0dc6476b-7a00-44f1-ac93-6e3baed33a29",
      "metadata": {
        "id": "0dc6476b-7a00-44f1-ac93-6e3baed33a29"
      },
      "source": [
        "# Юнит 3. Предварительный анализ данных"
      ]
    },
    {
      "cell_type": "markdown",
      "id": "889782b6-8d1c-410e-8920-e57f27917c64",
      "metadata": {
        "id": "889782b6-8d1c-410e-8920-e57f27917c64"
      },
      "source": [
        "1. Напишите запрос, который посчитает количество вакансий в нашей базе (вакансии находятся в таблице vacancies)."
      ]
    },
    {
      "cell_type": "code",
      "execution_count": null,
      "id": "bc39e68e-ed02-4ee2-9235-7258a2f867a8",
      "metadata": {
        "id": "bc39e68e-ed02-4ee2-9235-7258a2f867a8",
        "colab": {
          "base_uri": "https://localhost:8080/"
        },
        "collapsed": true,
        "outputId": "e512cf92-211e-4460-fa0e-f8f1da2a236d"
      },
      "outputs": [
        {
          "output_type": "stream",
          "name": "stderr",
          "text": [
            "<ipython-input-28-c38c50790c75>:7: UserWarning: pandas only supports SQLAlchemy connectable (engine/connection) or database string URI or sqlite3 DBAPI2 connection. Other DBAPI2 objects are not tested. Please consider using SQLAlchemy.\n",
            "  df = pd.read_sql_query(query_3_1, connection)\n"
          ]
        }
      ],
      "source": [
        "# Ключевое слово SELECT указывает, какие данные мы хотим выбрать. Функция count(*) возвращает количество строк,\n",
        "# знак \"*\" показывает, что выбираются все строки,\n",
        "# ключевое слово FROM указывает, из какой таблицы мы хотим выбрать данные.\n",
        "query_3_1 = f'''SELECT count(*)\n",
        "FROM vacancies\n",
        "'''\n",
        "# Чтобы получить результаты запроса в виде DataFrame используем метод read_sql_query()\n",
        "df = pd.read_sql_query(query_3_1, connection)"
      ]
    },
    {
      "cell_type": "code",
      "source": [
        "print(df)"
      ],
      "metadata": {
        "id": "7mAwtsk4hEHY",
        "colab": {
          "base_uri": "https://localhost:8080/"
        },
        "outputId": "088129ab-9f8c-4afd-a4a7-8b2e624f5f6a"
      },
      "id": "7mAwtsk4hEHY",
      "execution_count": null,
      "outputs": [
        {
          "output_type": "stream",
          "name": "stdout",
          "text": [
            "   count\n",
            "0  49197\n"
          ]
        }
      ]
    },
    {
      "cell_type": "markdown",
      "id": "b583485d-1f9e-494e-ada4-80ffff7c53d6",
      "metadata": {
        "id": "b583485d-1f9e-494e-ada4-80ffff7c53d6"
      },
      "source": [
        "2. Напишите запрос, который посчитает количество работодателей (таблица employers)."
      ]
    },
    {
      "cell_type": "code",
      "execution_count": null,
      "id": "5408c52c-3407-4a63-b25b-1aafa2322d28",
      "metadata": {
        "id": "5408c52c-3407-4a63-b25b-1aafa2322d28",
        "colab": {
          "base_uri": "https://localhost:8080/"
        },
        "collapsed": true,
        "outputId": "8eb07dad-a516-4b86-bd58-33c8773f8093"
      },
      "outputs": [
        {
          "output_type": "stream",
          "name": "stderr",
          "text": [
            "<ipython-input-86-d1044269cd56>:4: UserWarning: pandas only supports SQLAlchemy connectable (engine/connection) or database string URI or sqlite3 DBAPI2 connection. Other DBAPI2 objects are not tested. Please consider using SQLAlchemy.\n",
            "  df1 = pd.read_sql_query(query_3_2, connection)\n"
          ]
        }
      ],
      "source": [
        "# Запрос такой же как в 3.1, но таблицу выбираем employers, так как количество строк в ней равно количеству работодателей\n",
        "# (id - уникальный код работодателя)\n",
        "query_3_2 = f'''SELECT count(*)\n",
        "FROM employers\n",
        "'''\n",
        "df1 = pd.read_sql_query(query_3_2, connection)"
      ]
    },
    {
      "cell_type": "code",
      "source": [
        "print(df1)"
      ],
      "metadata": {
        "id": "jVL4eshKhdqc",
        "colab": {
          "base_uri": "https://localhost:8080/"
        },
        "outputId": "c5ea1f9a-7740-4df3-be83-83154bafe935"
      },
      "id": "jVL4eshKhdqc",
      "execution_count": null,
      "outputs": [
        {
          "output_type": "stream",
          "name": "stdout",
          "text": [
            "   count\n",
            "0  23501\n"
          ]
        }
      ]
    },
    {
      "cell_type": "markdown",
      "id": "a2bfff1f-c975-4bf6-84be-2185d79dcb76",
      "metadata": {
        "id": "a2bfff1f-c975-4bf6-84be-2185d79dcb76"
      },
      "source": [
        "3. Посчитате с помощью запроса количество регионов (таблица areas)."
      ]
    },
    {
      "cell_type": "code",
      "source": [
        "# Запрос аналогичен 3.1 и 3.2 но с таблицей areas\n",
        "query_3_3 = f'''SELECT count(*)\n",
        "FROM areas\n",
        "'''\n",
        "df2 = pd.read_sql_query(query_3_3, connection)"
      ],
      "metadata": {
        "id": "1m8QJwBYhey6",
        "colab": {
          "base_uri": "https://localhost:8080/"
        },
        "collapsed": true,
        "outputId": "387a8ea1-abdf-4ece-840d-2c7fb61bc882"
      },
      "id": "1m8QJwBYhey6",
      "execution_count": null,
      "outputs": [
        {
          "output_type": "stream",
          "name": "stderr",
          "text": [
            "<ipython-input-92-2f28f485c53e>:5: UserWarning: pandas only supports SQLAlchemy connectable (engine/connection) or database string URI or sqlite3 DBAPI2 connection. Other DBAPI2 objects are not tested. Please consider using SQLAlchemy.\n",
            "  df2 = pd.read_sql_query(query_3_3, connection)\n"
          ]
        }
      ]
    },
    {
      "cell_type": "code",
      "source": [
        "print(df2)"
      ],
      "metadata": {
        "id": "EZsn9tlfhe7f",
        "colab": {
          "base_uri": "https://localhost:8080/"
        },
        "outputId": "fff7034b-e5c3-4a3c-d138-a2e3cce2e533"
      },
      "id": "EZsn9tlfhe7f",
      "execution_count": null,
      "outputs": [
        {
          "output_type": "stream",
          "name": "stdout",
          "text": [
            "   count\n",
            "0   1362\n"
          ]
        }
      ]
    },
    {
      "cell_type": "markdown",
      "id": "41bb59f3-53cc-4a67-a5bc-bedf573955e4",
      "metadata": {
        "id": "41bb59f3-53cc-4a67-a5bc-bedf573955e4"
      },
      "source": [
        "4. Посчитате с помощью запроса количество сфер деятельности в базе (таблица industries)."
      ]
    },
    {
      "cell_type": "code",
      "execution_count": null,
      "id": "d286cf4c-707b-4cd2-9190-7ab3587d04a1",
      "metadata": {
        "id": "d286cf4c-707b-4cd2-9190-7ab3587d04a1",
        "colab": {
          "base_uri": "https://localhost:8080/"
        },
        "collapsed": true,
        "outputId": "a49263c2-a8d7-4551-ca7a-65af91cf10fd"
      },
      "outputs": [
        {
          "output_type": "stream",
          "name": "stderr",
          "text": [
            "<ipython-input-94-7cd4835c140f>:5: UserWarning: pandas only supports SQLAlchemy connectable (engine/connection) or database string URI or sqlite3 DBAPI2 connection. Other DBAPI2 objects are not tested. Please consider using SQLAlchemy.\n",
            "  df3 = pd.read_sql_query(query_3_4, connection)\n"
          ]
        }
      ],
      "source": [
        "# Запрос аналогичен 3.1 и 3.2, 3.3 но с таблицей industries\n",
        "query_3_4 = f'''SELECT count(*)\n",
        "FROM industries\n",
        "'''\n",
        "df3 = pd.read_sql_query(query_3_4, connection)"
      ]
    },
    {
      "cell_type": "code",
      "source": [
        "print(df3)"
      ],
      "metadata": {
        "id": "JYAaoZ4qhfzW",
        "colab": {
          "base_uri": "https://localhost:8080/"
        },
        "outputId": "7054d163-d8ad-4494-e7b0-f5c65985b5f9"
      },
      "id": "JYAaoZ4qhfzW",
      "execution_count": null,
      "outputs": [
        {
          "output_type": "stream",
          "name": "stdout",
          "text": [
            "   count\n",
            "0    294\n"
          ]
        }
      ]
    },
    {
      "cell_type": "markdown",
      "id": "9a8a2181-6914-448b-85f1-38f5f18b8a93",
      "metadata": {
        "id": "9a8a2181-6914-448b-85f1-38f5f18b8a93"
      },
      "source": [
        "***"
      ]
    },
    {
      "cell_type": "code",
      "execution_count": null,
      "id": "be4e9bd3-a4db-4a20-82fb-6b02fc2957e0",
      "metadata": {
        "id": "be4e9bd3-a4db-4a20-82fb-6b02fc2957e0"
      },
      "outputs": [],
      "source": [
        "# выводы по предварительному анализу данных\n",
        "# В таблицах \"project_sql\" содержится иформация о 49197 вакансиях, предоставленными 23501 рвботодателями.\n",
        "# Вакансии размещены в 1362 регионах и включают 294 сферы деятельности."
      ]
    },
    {
      "cell_type": "markdown",
      "id": "8d62a9f3-f64e-4fe7-bdac-c4dffa16155e",
      "metadata": {
        "id": "8d62a9f3-f64e-4fe7-bdac-c4dffa16155e"
      },
      "source": [
        "# Юнит 4. Детальный анализ вакансий"
      ]
    },
    {
      "cell_type": "markdown",
      "id": "93053d3d-b284-481a-9cf7-012d7014c0e0",
      "metadata": {
        "id": "93053d3d-b284-481a-9cf7-012d7014c0e0"
      },
      "source": [
        "1. Напишите запрос, который позволит узнать, сколько (cnt) вакансий в каждом регионе (area).\n",
        "Отсортируйте по количеству вакансий в порядке убывания."
      ]
    },
    {
      "cell_type": "code",
      "execution_count": null,
      "id": "3f069da6-fdc9-4ae7-b514-fafe2675efd3",
      "metadata": {
        "id": "3f069da6-fdc9-4ae7-b514-fafe2675efd3",
        "colab": {
          "base_uri": "https://localhost:8080/"
        },
        "collapsed": true,
        "outputId": "0328eabd-4893-48a6-e143-17e316e5c53b"
      },
      "outputs": [
        {
          "output_type": "stream",
          "name": "stderr",
          "text": [
            "<ipython-input-101-0bd5a0eeb150>:10: UserWarning: pandas only supports SQLAlchemy connectable (engine/connection) or database string URI or sqlite3 DBAPI2 connection. Other DBAPI2 objects are not tested. Please consider using SQLAlchemy.\n",
            "  df4 = pd.read_sql_query(query_4_1, connection)\n"
          ]
        }
      ],
      "source": [
        "query_4_1 = f'''SELECT a.name, count(v.area_id) cnt\n",
        "FROM areas a\n",
        "JOIN vacancies v ON v.area_id = a.id\n",
        "GROUP BY a.name\n",
        "ORDER BY count(v.area_id) DESC\n",
        "LIMIT 5\n",
        "'''\n",
        "df4 = pd.read_sql_query(query_4_1, connection)"
      ]
    },
    {
      "cell_type": "code",
      "source": [
        "print(df4)"
      ],
      "metadata": {
        "id": "P7QL86hrjhRJ",
        "colab": {
          "base_uri": "https://localhost:8080/"
        },
        "outputId": "3d31c6e4-2184-4d7c-d879-de7a3c8d6c1b"
      },
      "id": "P7QL86hrjhRJ",
      "execution_count": null,
      "outputs": [
        {
          "output_type": "stream",
          "name": "stdout",
          "text": [
            "              name   cnt\n",
            "0           Москва  5333\n",
            "1  Санкт-Петербург  2851\n",
            "2            Минск  2112\n",
            "3      Новосибирск  2006\n",
            "4           Алматы  1892\n"
          ]
        }
      ]
    },
    {
      "cell_type": "markdown",
      "source": [
        "# Комментарии к заданию 4.1\n",
        "1. Выбираем столбец \"name\" из таблицы \"areas\", \"count(v.area_id) cnt\" вычисляет количество записей в таблице vacancies, где area_id равен id из таблицы areas. Результат помещен в столбец \"cnt\"\n",
        "2.\n",
        "`FROM areas a JOIN vacancies v ON v.area_id = a.id` объединяет таблицы \"areas\" и \"vacancies\" по ключам id и area_id соответственно.\n",
        "3. При помощи \"GROUP BY a.name\" данные группируются по столбцу \"name\" из таблицы \"areas\".\n",
        "4. `ORDER BY count(v.area_id) DESC`. Сортируем результаты по убыванию количества вакансий в каждой области.\n",
        "5. `LIMIT 5 `. Оставляем первые пять строк отсортированного списка."
      ],
      "metadata": {
        "id": "RC3xc8IolTaW"
      },
      "id": "RC3xc8IolTaW"
    },
    {
      "cell_type": "markdown",
      "id": "4266f0b6-1646-492a-88b4-2f6a46502135",
      "metadata": {
        "id": "4266f0b6-1646-492a-88b4-2f6a46502135"
      },
      "source": [
        "2. Напишите запрос, чтобы определить у какого количества вакансий заполнено хотя бы одно из двух полей с зарплатой."
      ]
    },
    {
      "cell_type": "code",
      "execution_count": null,
      "id": "0c44b350-72eb-4d65-8b54-a1fc449ba9fd",
      "metadata": {
        "id": "0c44b350-72eb-4d65-8b54-a1fc449ba9fd",
        "colab": {
          "base_uri": "https://localhost:8080/"
        },
        "collapsed": true,
        "outputId": "f9229dce-ece6-454d-f439-d5518ecb9479"
      },
      "outputs": [
        {
          "output_type": "stream",
          "name": "stderr",
          "text": [
            "<ipython-input-102-fa4cd1dbc6d2>:5: UserWarning: pandas only supports SQLAlchemy connectable (engine/connection) or database string URI or sqlite3 DBAPI2 connection. Other DBAPI2 objects are not tested. Please consider using SQLAlchemy.\n",
            "  df5 = pd.read_sql_query(query_4_2, connection)\n"
          ]
        }
      ],
      "source": [
        "query_4_2 = f'''SELECT count(v.id)\n",
        "FROM vacancies v\n",
        "WHERE v.salary_from IS NOT NULL OR v.salary_to IS NOT NULL\n",
        "'''\n",
        "df5 = pd.read_sql_query(query_4_2, connection)"
      ]
    },
    {
      "cell_type": "code",
      "source": [
        "print(df5)"
      ],
      "metadata": {
        "id": "rhvwaMDkoWTi",
        "colab": {
          "base_uri": "https://localhost:8080/"
        },
        "outputId": "02dbbf70-e5ec-4f1c-d150-9e57b4082579"
      },
      "id": "rhvwaMDkoWTi",
      "execution_count": null,
      "outputs": [
        {
          "output_type": "stream",
          "name": "stdout",
          "text": [
            "   count\n",
            "0  24073\n"
          ]
        }
      ]
    },
    {
      "cell_type": "markdown",
      "source": [
        "# Комментарии к заданию 4.2\n",
        "1. `count(v.id)` подсчитывает количество непустых записей в таблице \"vacancies\".\n",
        "2.\n",
        "`FROM vacancies v` показывает источник данных - таблица \"vacancies\".\n",
        "3. `WHERE v.salary_from IS NOT NULL OR v.salary_to IS NOT NULL` - задаем условие отбора строк: или поле \"salary_from\" или \"salary_to\" должно быть непустым."
      ],
      "metadata": {
        "id": "JrJkYN8ZBPm6"
      },
      "id": "JrJkYN8ZBPm6"
    },
    {
      "cell_type": "markdown",
      "id": "635c4d5d-f323-4c66-b428-50a088120aa0",
      "metadata": {
        "id": "635c4d5d-f323-4c66-b428-50a088120aa0"
      },
      "source": [
        "3. Найдите средние значения для нижней и верхней границы зарплатной вилки. Округлите значения до целого."
      ]
    },
    {
      "cell_type": "code",
      "execution_count": null,
      "id": "603cdbe4-0ec3-4106-8eaf-c73fcdd29165",
      "metadata": {
        "id": "603cdbe4-0ec3-4106-8eaf-c73fcdd29165",
        "colab": {
          "base_uri": "https://localhost:8080/"
        },
        "collapsed": true,
        "outputId": "03c412ae-5d7a-4339-8440-1221383c1c59"
      },
      "outputs": [
        {
          "output_type": "stream",
          "name": "stderr",
          "text": [
            "<ipython-input-107-84882a1c9754>:4: UserWarning: pandas only supports SQLAlchemy connectable (engine/connection) or database string URI or sqlite3 DBAPI2 connection. Other DBAPI2 objects are not tested. Please consider using SQLAlchemy.\n",
            "  df7 = pd.read_sql_query(query_4_3, connection)\n"
          ]
        }
      ],
      "source": [
        "query_4_3 = f'''SELECT AVG(v.salary_from) salary_from, AVG(v.salary_to) salary_to\n",
        "FROM vacancies v\n",
        "'''\n",
        "df7 = pd.read_sql_query(query_4_3, connection)"
      ]
    },
    {
      "cell_type": "code",
      "source": [
        "print(df7)"
      ],
      "metadata": {
        "id": "pswpAb66ovZZ",
        "colab": {
          "base_uri": "https://localhost:8080/"
        },
        "outputId": "be0f6482-03c1-4e71-8eb0-7cdef504adb6"
      },
      "id": "pswpAb66ovZZ",
      "execution_count": null,
      "outputs": [
        {
          "output_type": "stream",
          "name": "stdout",
          "text": [
            "    salary_from      salary_to\n",
            "0  71064.657901  110536.741923\n"
          ]
        }
      ]
    },
    {
      "cell_type": "markdown",
      "source": [
        "# Комментарии к заданию 4.3\n",
        "1. `count(v.id)` подсчитывает количество непустых записей в таблице \"vacancies\".\n",
        "2. `FROM vacancies v` показывает источник данных - таблица \"vacancies\".\n",
        "3. `WHERE v.salary_from IS NOT NULL OR v.salary_to IS NOT NULL` - задаем условие отбора строк: или поле \"salary_from\" или \"salary_to\" должно быть непустым."
      ],
      "metadata": {
        "id": "GnZ4eXjNH6L-"
      },
      "id": "GnZ4eXjNH6L-"
    },
    {
      "cell_type": "markdown",
      "id": "f3fdaec9-5fd3-4260-9cf5-1d7406b628a5",
      "metadata": {
        "id": "f3fdaec9-5fd3-4260-9cf5-1d7406b628a5"
      },
      "source": [
        "4. Напишите запрос, который выведет количество вакансий для каждого сочетания типа рабочего графика (schedule) и типа трудоустройства (employment), используемого в вакансиях. Результат отсортируйте по убыванию количества.\n"
      ]
    },
    {
      "cell_type": "code",
      "execution_count": null,
      "id": "1ea710ec-871b-431e-9462-c7d0fd87011b",
      "metadata": {
        "id": "1ea710ec-871b-431e-9462-c7d0fd87011b",
        "colab": {
          "base_uri": "https://localhost:8080/"
        },
        "collapsed": true,
        "outputId": "75c9836f-91c8-4fe1-c16d-220326f07332"
      },
      "outputs": [
        {
          "output_type": "stream",
          "name": "stderr",
          "text": [
            "<ipython-input-114-0d75ef198bb4>:6: UserWarning: pandas only supports SQLAlchemy connectable (engine/connection) or database string URI or sqlite3 DBAPI2 connection. Other DBAPI2 objects are not tested. Please consider using SQLAlchemy.\n",
            "  df8 = pd.read_sql_query(query_4_4, connection)\n"
          ]
        }
      ],
      "source": [
        "query_4_4 = f'''SELECT schedule, employment, count(id)\n",
        "FROM vacancies\n",
        "GROUP BY schedule, employment\n",
        "ORDER BY count(id) DESC\n",
        "'''\n",
        "df8 = pd.read_sql_query(query_4_4, connection)"
      ]
    },
    {
      "cell_type": "code",
      "source": [
        "print(df8)"
      ],
      "metadata": {
        "id": "lGUVqavdo4JQ",
        "colab": {
          "base_uri": "https://localhost:8080/"
        },
        "outputId": "b581e4ca-40d5-4be5-b4cf-c258aa6a0fd3"
      },
      "id": "lGUVqavdo4JQ",
      "execution_count": null,
      "outputs": [
        {
          "output_type": "stream",
          "name": "stdout",
          "text": [
            "            schedule           employment  count\n",
            "0        Полный день     Полная занятость  35367\n",
            "1   Удаленная работа     Полная занятость   7802\n",
            "2      Гибкий график     Полная занятость   1593\n",
            "3   Удаленная работа  Частичная занятость   1312\n",
            "4     Сменный график     Полная занятость    940\n",
            "5        Полный день           Стажировка    569\n",
            "6     Вахтовый метод     Полная занятость    367\n",
            "7        Полный день  Частичная занятость    347\n",
            "8      Гибкий график  Частичная занятость    312\n",
            "9        Полный день     Проектная работа    141\n",
            "10  Удаленная работа     Проектная работа    133\n",
            "11     Гибкий график           Стажировка    116\n",
            "12    Сменный график  Частичная занятость    101\n",
            "13  Удаленная работа           Стажировка     64\n",
            "14     Гибкий график     Проектная работа     18\n",
            "15    Сменный график           Стажировка     12\n",
            "16    Вахтовый метод     Проектная работа      2\n",
            "17    Сменный график     Проектная работа      1\n"
          ]
        }
      ]
    },
    {
      "cell_type": "markdown",
      "source": [
        "# Комментарии к заданию 4.4\n",
        "1. Для запроса понадобится одна таблица - \"vacancies\". Из нее выбираем столбцы\n",
        "\"schedule\" и \"employment\".\n",
        "2. `GROUP BY schedule, employment` - группирует таблицу по полям \"schedule\" и \"employment\". В результате получаем все сочетания рабочего графика и типа трудоустройства.\n",
        "3. Для каждого сочетания подсчитывается количество вакансий `count(v.id)`"
      ],
      "metadata": {
        "id": "MhBtvNPOYA-X"
      },
      "id": "MhBtvNPOYA-X"
    },
    {
      "cell_type": "markdown",
      "id": "0136ffee-0ead-4a6b-b608-61d1c753a438",
      "metadata": {
        "id": "0136ffee-0ead-4a6b-b608-61d1c753a438"
      },
      "source": [
        "5. Напишите запрос, выводящий значения поля Требуемый опыт работы (experience) в порядке возрастания количества вакансий, в которых указан данный вариант опыта."
      ]
    },
    {
      "cell_type": "code",
      "execution_count": null,
      "id": "5b3a8e79-f7ab-4008-b767-12aea3a205ea",
      "metadata": {
        "id": "5b3a8e79-f7ab-4008-b767-12aea3a205ea",
        "colab": {
          "base_uri": "https://localhost:8080/"
        },
        "collapsed": true,
        "outputId": "13a6d063-eca3-40ec-b395-dd0211876422"
      },
      "outputs": [
        {
          "output_type": "stream",
          "name": "stderr",
          "text": [
            "<ipython-input-116-8251243c2120>:6: UserWarning: pandas only supports SQLAlchemy connectable (engine/connection) or database string URI or sqlite3 DBAPI2 connection. Other DBAPI2 objects are not tested. Please consider using SQLAlchemy.\n",
            "  df9 = pd.read_sql_query(query_4_5, connection)\n"
          ]
        }
      ],
      "source": [
        "query_4_5 = f'''SELECT experience, count(id)\n",
        "FROM vacancies\n",
        "GROUP BY experience\n",
        "ORDER BY count(id)\n",
        "'''\n",
        "df9 = pd.read_sql_query(query_4_5, connection)"
      ]
    },
    {
      "cell_type": "code",
      "source": [
        "print(df9)"
      ],
      "metadata": {
        "id": "3Is64Y-hpDpq",
        "colab": {
          "base_uri": "https://localhost:8080/"
        },
        "outputId": "8cb41fd7-10f3-4e5a-8394-bb181bffbfc3"
      },
      "id": "3Is64Y-hpDpq",
      "execution_count": null,
      "outputs": [
        {
          "output_type": "stream",
          "name": "stdout",
          "text": [
            "           experience  count\n",
            "0         Более 6 лет   1337\n",
            "1           Нет опыта   7197\n",
            "2       От 3 до 6 лет  14511\n",
            "3  От 1 года до 3 лет  26152\n"
          ]
        }
      ]
    },
    {
      "cell_type": "markdown",
      "source": [
        "# Комментарии к заданию 4.5\n",
        "1. Из таблицы \"vacancies\" выбираем столбец \"experience\" `SELECT experience`\n",
        "2. `GROUP BY experience` - проводим группировку по полю \"experience\".\n",
        "3. Для каждой группы подсчитываем количество вакансий `count(v.id)`\n",
        "4. Сортируем по количеству вакансий `ORDER BY count(id)`."
      ],
      "metadata": {
        "id": "tIiDt4lDc_qs"
      },
      "id": "tIiDt4lDc_qs"
    },
    {
      "cell_type": "markdown",
      "source": [
        "***"
      ],
      "metadata": {
        "id": "oq2b7n1QpIka"
      },
      "id": "oq2b7n1QpIka"
    },
    {
      "cell_type": "code",
      "execution_count": null,
      "id": "e91f87ed-e25c-4f96-9f92-b642e8c0b4fa",
      "metadata": {
        "id": "e91f87ed-e25c-4f96-9f92-b642e8c0b4fa"
      },
      "outputs": [],
      "source": [
        "# выводы по детальному анализу вакансий\n",
        "# 1. Лидерами по количеству вакансий яляются крупные города: столицы и областные центры с развитой экономикой и инфраструктурой.\n",
        "# 2. Большинство работодателей предпочитают не сообщать заранее уровень зарплат по вакансиям.\n",
        "# 3. Средние значения предлагаемых зарплат от 71 до 110 тыс. руб,\n",
        "# 4. Самое популярное сочетание типа рабочего графика (schedule) и типа трудоустройства (employment): \"Удалённая работа — Полная занятость\".\n",
        "# 5. Количество вакансий возрастает в ряду \"Более 6 лет — Нет опыта — От 3 до 6 лет — От 1 года до 3 лет\".\n",
        "#  Здравый смысл подсказывает что вакансий для более опытных работников должно быть больше. Возможное объяснение: работодатель указывает минимальный необходимый опыт работы."
      ]
    },
    {
      "cell_type": "markdown",
      "id": "7ea20ab6-04a7-40a0-adec-443a0e5a42c3",
      "metadata": {
        "id": "7ea20ab6-04a7-40a0-adec-443a0e5a42c3"
      },
      "source": [
        "# Юнит 5. Анализ работодателей"
      ]
    },
    {
      "cell_type": "markdown",
      "id": "968aed80-74ef-4ffb-b5bf-c65b84e9caea",
      "metadata": {
        "id": "968aed80-74ef-4ffb-b5bf-c65b84e9caea"
      },
      "source": [
        "1. Напишите запрос, который позволит узнать, какие работодатели находятся на первом и пятом месте по количеству вакансий."
      ]
    },
    {
      "cell_type": "code",
      "execution_count": null,
      "id": "f2d62796-d400-4ec1-a675-88112739a50e",
      "metadata": {
        "id": "f2d62796-d400-4ec1-a675-88112739a50e",
        "colab": {
          "base_uri": "https://localhost:8080/"
        },
        "collapsed": true,
        "outputId": "da139b87-c3d5-4112-98c8-d6f8ffc64f6c"
      },
      "outputs": [
        {
          "output_type": "stream",
          "name": "stderr",
          "text": [
            "<ipython-input-119-12a68b5bca8b>:8: UserWarning: pandas only supports SQLAlchemy connectable (engine/connection) or database string URI or sqlite3 DBAPI2 connection. Other DBAPI2 objects are not tested. Please consider using SQLAlchemy.\n",
            "  df10 = pd.read_sql_query(query_5_1, connection)\n"
          ]
        }
      ],
      "source": [
        "query_5_1 = f'''SELECT e.name, count(v.id)\n",
        "FROM vacancies v\n",
        "JOIN employers e ON v.employer_id = e.id\n",
        "GROUP BY e.name\n",
        "ORDER BY count(v.id) DESC\n",
        "LIMIT 5\n",
        "'''\n",
        "df10 = pd.read_sql_query(query_5_1, connection)"
      ]
    },
    {
      "cell_type": "code",
      "source": [
        "print(df10)"
      ],
      "metadata": {
        "id": "64tOMkAxqkQk",
        "colab": {
          "base_uri": "https://localhost:8080/"
        },
        "outputId": "7297ce3d-bfe0-49f0-ce81-2ccc1663ef6d"
      },
      "id": "64tOMkAxqkQk",
      "execution_count": null,
      "outputs": [
        {
          "output_type": "stream",
          "name": "stdout",
          "text": [
            "            name  count\n",
            "0         Яндекс   1933\n",
            "1     Ростелеком    491\n",
            "2       Тинькофф    444\n",
            "3           СБЕР    428\n",
            "4  Газпром нефть    331\n"
          ]
        }
      ]
    },
    {
      "cell_type": "markdown",
      "source": [
        "# Комментарии к заданию 5.1\n",
        "1. `SELECT e.name, count(v.id)` выбираем столбцы для вывода данных.\n",
        "2. `FROM vacancies v` `JOIN employers e` объединяем таблицы \"vacancies\" и \"employers\" по ключам `v.employer_id = e.id`.\n",
        "3. `GROUP BY experience` - проводим группировку по полю \"e.name\".\n",
        "4. Для каждой группы подсчитываем количество вакансий `count(v.id)`\n",
        "5. Сортируем по убыванию количества вакансий `ORDER BY count(id) DESC`.\n",
        "6. Оставляем 5 верхних строк."
      ],
      "metadata": {
        "id": "EVM3RuYqmnj8"
      },
      "id": "EVM3RuYqmnj8"
    },
    {
      "cell_type": "markdown",
      "id": "68377cfc-b378-43dc-ab7d-1195abf2c515",
      "metadata": {
        "id": "68377cfc-b378-43dc-ab7d-1195abf2c515"
      },
      "source": [
        "2. Напишите запрос, который для каждого региона выведет количество работодателей и вакансий в нём.\n",
        "Среди регионов, в которых нет вакансий, найдите тот, в котором наибольшее количество работодателей.\n"
      ]
    },
    {
      "cell_type": "code",
      "execution_count": null,
      "id": "dd7df27a-e3e8-412e-a21a-5d389b71e891",
      "metadata": {
        "id": "dd7df27a-e3e8-412e-a21a-5d389b71e891",
        "colab": {
          "base_uri": "https://localhost:8080/"
        },
        "collapsed": true,
        "outputId": "17b061d0-47ba-44d2-d305-27906c092bcb"
      },
      "outputs": [
        {
          "output_type": "stream",
          "name": "stderr",
          "text": [
            "<ipython-input-132-50e97effac15>:10: UserWarning: pandas only supports SQLAlchemy connectable (engine/connection) or database string URI or sqlite3 DBAPI2 connection. Other DBAPI2 objects are not tested. Please consider using SQLAlchemy.\n",
            "  df11 = pd.read_sql_query(query_5_2, connection)\n"
          ]
        }
      ],
      "source": [
        "# запрос для определения количества работодателей и вакансий в каждом регионе\n",
        "query_5_2 = f'''SELECT a.name AS region, count(DISTINCT e.id) AS employers_count,\n",
        "                count(DISTINCT v.id) AS vacancies_count\n",
        "FROM areas a\n",
        "LEFT JOIN employers e ON e.area = a.id\n",
        "LEFT JOIN vacancies v ON v.area_id = a.id\n",
        "GROUP BY a.id\n",
        "ORDER BY count(DISTINCT v.id) DESC, count(DISTINCT e.id) DESC\n",
        "'''\n",
        "df11 = pd.read_sql_query(query_5_2, connection)"
      ]
    },
    {
      "cell_type": "code",
      "source": [
        "df11.head()"
      ],
      "metadata": {
        "id": "x1ikWbydrbf6",
        "colab": {
          "base_uri": "https://localhost:8080/",
          "height": 206
        },
        "outputId": "d4c92372-4aca-4e0b-cbd0-e5b2b189141b"
      },
      "id": "x1ikWbydrbf6",
      "execution_count": null,
      "outputs": [
        {
          "output_type": "execute_result",
          "data": {
            "text/plain": [
              "            region  employers_count  vacancies_count\n",
              "0           Москва             5864             5333\n",
              "1  Санкт-Петербург             2217             2851\n",
              "2            Минск             1115             2112\n",
              "3      Новосибирск              573             2006\n",
              "4           Алматы              721             1892"
            ],
            "text/html": [
              "\n",
              "  <div id=\"df-33b55862-0d7f-4fa8-bd7b-8e87f21d1973\" class=\"colab-df-container\">\n",
              "    <div>\n",
              "<style scoped>\n",
              "    .dataframe tbody tr th:only-of-type {\n",
              "        vertical-align: middle;\n",
              "    }\n",
              "\n",
              "    .dataframe tbody tr th {\n",
              "        vertical-align: top;\n",
              "    }\n",
              "\n",
              "    .dataframe thead th {\n",
              "        text-align: right;\n",
              "    }\n",
              "</style>\n",
              "<table border=\"1\" class=\"dataframe\">\n",
              "  <thead>\n",
              "    <tr style=\"text-align: right;\">\n",
              "      <th></th>\n",
              "      <th>region</th>\n",
              "      <th>employers_count</th>\n",
              "      <th>vacancies_count</th>\n",
              "    </tr>\n",
              "  </thead>\n",
              "  <tbody>\n",
              "    <tr>\n",
              "      <th>0</th>\n",
              "      <td>Москва</td>\n",
              "      <td>5864</td>\n",
              "      <td>5333</td>\n",
              "    </tr>\n",
              "    <tr>\n",
              "      <th>1</th>\n",
              "      <td>Санкт-Петербург</td>\n",
              "      <td>2217</td>\n",
              "      <td>2851</td>\n",
              "    </tr>\n",
              "    <tr>\n",
              "      <th>2</th>\n",
              "      <td>Минск</td>\n",
              "      <td>1115</td>\n",
              "      <td>2112</td>\n",
              "    </tr>\n",
              "    <tr>\n",
              "      <th>3</th>\n",
              "      <td>Новосибирск</td>\n",
              "      <td>573</td>\n",
              "      <td>2006</td>\n",
              "    </tr>\n",
              "    <tr>\n",
              "      <th>4</th>\n",
              "      <td>Алматы</td>\n",
              "      <td>721</td>\n",
              "      <td>1892</td>\n",
              "    </tr>\n",
              "  </tbody>\n",
              "</table>\n",
              "</div>\n",
              "    <div class=\"colab-df-buttons\">\n",
              "\n",
              "  <div class=\"colab-df-container\">\n",
              "    <button class=\"colab-df-convert\" onclick=\"convertToInteractive('df-33b55862-0d7f-4fa8-bd7b-8e87f21d1973')\"\n",
              "            title=\"Convert this dataframe to an interactive table.\"\n",
              "            style=\"display:none;\">\n",
              "\n",
              "  <svg xmlns=\"http://www.w3.org/2000/svg\" height=\"24px\" viewBox=\"0 -960 960 960\">\n",
              "    <path d=\"M120-120v-720h720v720H120Zm60-500h600v-160H180v160Zm220 220h160v-160H400v160Zm0 220h160v-160H400v160ZM180-400h160v-160H180v160Zm440 0h160v-160H620v160ZM180-180h160v-160H180v160Zm440 0h160v-160H620v160Z\"/>\n",
              "  </svg>\n",
              "    </button>\n",
              "\n",
              "  <style>\n",
              "    .colab-df-container {\n",
              "      display:flex;\n",
              "      gap: 12px;\n",
              "    }\n",
              "\n",
              "    .colab-df-convert {\n",
              "      background-color: #E8F0FE;\n",
              "      border: none;\n",
              "      border-radius: 50%;\n",
              "      cursor: pointer;\n",
              "      display: none;\n",
              "      fill: #1967D2;\n",
              "      height: 32px;\n",
              "      padding: 0 0 0 0;\n",
              "      width: 32px;\n",
              "    }\n",
              "\n",
              "    .colab-df-convert:hover {\n",
              "      background-color: #E2EBFA;\n",
              "      box-shadow: 0px 1px 2px rgba(60, 64, 67, 0.3), 0px 1px 3px 1px rgba(60, 64, 67, 0.15);\n",
              "      fill: #174EA6;\n",
              "    }\n",
              "\n",
              "    .colab-df-buttons div {\n",
              "      margin-bottom: 4px;\n",
              "    }\n",
              "\n",
              "    [theme=dark] .colab-df-convert {\n",
              "      background-color: #3B4455;\n",
              "      fill: #D2E3FC;\n",
              "    }\n",
              "\n",
              "    [theme=dark] .colab-df-convert:hover {\n",
              "      background-color: #434B5C;\n",
              "      box-shadow: 0px 1px 3px 1px rgba(0, 0, 0, 0.15);\n",
              "      filter: drop-shadow(0px 1px 2px rgba(0, 0, 0, 0.3));\n",
              "      fill: #FFFFFF;\n",
              "    }\n",
              "  </style>\n",
              "\n",
              "    <script>\n",
              "      const buttonEl =\n",
              "        document.querySelector('#df-33b55862-0d7f-4fa8-bd7b-8e87f21d1973 button.colab-df-convert');\n",
              "      buttonEl.style.display =\n",
              "        google.colab.kernel.accessAllowed ? 'block' : 'none';\n",
              "\n",
              "      async function convertToInteractive(key) {\n",
              "        const element = document.querySelector('#df-33b55862-0d7f-4fa8-bd7b-8e87f21d1973');\n",
              "        const dataTable =\n",
              "          await google.colab.kernel.invokeFunction('convertToInteractive',\n",
              "                                                    [key], {});\n",
              "        if (!dataTable) return;\n",
              "\n",
              "        const docLinkHtml = 'Like what you see? Visit the ' +\n",
              "          '<a target=\"_blank\" href=https://colab.research.google.com/notebooks/data_table.ipynb>data table notebook</a>'\n",
              "          + ' to learn more about interactive tables.';\n",
              "        element.innerHTML = '';\n",
              "        dataTable['output_type'] = 'display_data';\n",
              "        await google.colab.output.renderOutput(dataTable, element);\n",
              "        const docLink = document.createElement('div');\n",
              "        docLink.innerHTML = docLinkHtml;\n",
              "        element.appendChild(docLink);\n",
              "      }\n",
              "    </script>\n",
              "  </div>\n",
              "\n",
              "\n",
              "<div id=\"df-7b1f1c99-efd5-4d48-88db-09bbf24f3dd4\">\n",
              "  <button class=\"colab-df-quickchart\" onclick=\"quickchart('df-7b1f1c99-efd5-4d48-88db-09bbf24f3dd4')\"\n",
              "            title=\"Suggest charts\"\n",
              "            style=\"display:none;\">\n",
              "\n",
              "<svg xmlns=\"http://www.w3.org/2000/svg\" height=\"24px\"viewBox=\"0 0 24 24\"\n",
              "     width=\"24px\">\n",
              "    <g>\n",
              "        <path d=\"M19 3H5c-1.1 0-2 .9-2 2v14c0 1.1.9 2 2 2h14c1.1 0 2-.9 2-2V5c0-1.1-.9-2-2-2zM9 17H7v-7h2v7zm4 0h-2V7h2v10zm4 0h-2v-4h2v4z\"/>\n",
              "    </g>\n",
              "</svg>\n",
              "  </button>\n",
              "\n",
              "<style>\n",
              "  .colab-df-quickchart {\n",
              "      --bg-color: #E8F0FE;\n",
              "      --fill-color: #1967D2;\n",
              "      --hover-bg-color: #E2EBFA;\n",
              "      --hover-fill-color: #174EA6;\n",
              "      --disabled-fill-color: #AAA;\n",
              "      --disabled-bg-color: #DDD;\n",
              "  }\n",
              "\n",
              "  [theme=dark] .colab-df-quickchart {\n",
              "      --bg-color: #3B4455;\n",
              "      --fill-color: #D2E3FC;\n",
              "      --hover-bg-color: #434B5C;\n",
              "      --hover-fill-color: #FFFFFF;\n",
              "      --disabled-bg-color: #3B4455;\n",
              "      --disabled-fill-color: #666;\n",
              "  }\n",
              "\n",
              "  .colab-df-quickchart {\n",
              "    background-color: var(--bg-color);\n",
              "    border: none;\n",
              "    border-radius: 50%;\n",
              "    cursor: pointer;\n",
              "    display: none;\n",
              "    fill: var(--fill-color);\n",
              "    height: 32px;\n",
              "    padding: 0;\n",
              "    width: 32px;\n",
              "  }\n",
              "\n",
              "  .colab-df-quickchart:hover {\n",
              "    background-color: var(--hover-bg-color);\n",
              "    box-shadow: 0 1px 2px rgba(60, 64, 67, 0.3), 0 1px 3px 1px rgba(60, 64, 67, 0.15);\n",
              "    fill: var(--button-hover-fill-color);\n",
              "  }\n",
              "\n",
              "  .colab-df-quickchart-complete:disabled,\n",
              "  .colab-df-quickchart-complete:disabled:hover {\n",
              "    background-color: var(--disabled-bg-color);\n",
              "    fill: var(--disabled-fill-color);\n",
              "    box-shadow: none;\n",
              "  }\n",
              "\n",
              "  .colab-df-spinner {\n",
              "    border: 2px solid var(--fill-color);\n",
              "    border-color: transparent;\n",
              "    border-bottom-color: var(--fill-color);\n",
              "    animation:\n",
              "      spin 1s steps(1) infinite;\n",
              "  }\n",
              "\n",
              "  @keyframes spin {\n",
              "    0% {\n",
              "      border-color: transparent;\n",
              "      border-bottom-color: var(--fill-color);\n",
              "      border-left-color: var(--fill-color);\n",
              "    }\n",
              "    20% {\n",
              "      border-color: transparent;\n",
              "      border-left-color: var(--fill-color);\n",
              "      border-top-color: var(--fill-color);\n",
              "    }\n",
              "    30% {\n",
              "      border-color: transparent;\n",
              "      border-left-color: var(--fill-color);\n",
              "      border-top-color: var(--fill-color);\n",
              "      border-right-color: var(--fill-color);\n",
              "    }\n",
              "    40% {\n",
              "      border-color: transparent;\n",
              "      border-right-color: var(--fill-color);\n",
              "      border-top-color: var(--fill-color);\n",
              "    }\n",
              "    60% {\n",
              "      border-color: transparent;\n",
              "      border-right-color: var(--fill-color);\n",
              "    }\n",
              "    80% {\n",
              "      border-color: transparent;\n",
              "      border-right-color: var(--fill-color);\n",
              "      border-bottom-color: var(--fill-color);\n",
              "    }\n",
              "    90% {\n",
              "      border-color: transparent;\n",
              "      border-bottom-color: var(--fill-color);\n",
              "    }\n",
              "  }\n",
              "</style>\n",
              "\n",
              "  <script>\n",
              "    async function quickchart(key) {\n",
              "      const quickchartButtonEl =\n",
              "        document.querySelector('#' + key + ' button');\n",
              "      quickchartButtonEl.disabled = true;  // To prevent multiple clicks.\n",
              "      quickchartButtonEl.classList.add('colab-df-spinner');\n",
              "      try {\n",
              "        const charts = await google.colab.kernel.invokeFunction(\n",
              "            'suggestCharts', [key], {});\n",
              "      } catch (error) {\n",
              "        console.error('Error during call to suggestCharts:', error);\n",
              "      }\n",
              "      quickchartButtonEl.classList.remove('colab-df-spinner');\n",
              "      quickchartButtonEl.classList.add('colab-df-quickchart-complete');\n",
              "    }\n",
              "    (() => {\n",
              "      let quickchartButtonEl =\n",
              "        document.querySelector('#df-7b1f1c99-efd5-4d48-88db-09bbf24f3dd4 button');\n",
              "      quickchartButtonEl.style.display =\n",
              "        google.colab.kernel.accessAllowed ? 'block' : 'none';\n",
              "    })();\n",
              "  </script>\n",
              "</div>\n",
              "\n",
              "    </div>\n",
              "  </div>\n"
            ],
            "application/vnd.google.colaboratory.intrinsic+json": {
              "type": "dataframe",
              "variable_name": "df11",
              "summary": "{\n  \"name\": \"df11\",\n  \"rows\": 1362,\n  \"fields\": [\n    {\n      \"column\": \"region\",\n      \"properties\": {\n        \"dtype\": \"string\",\n        \"num_unique_values\": 1362,\n        \"samples\": [\n          \"\\u0411\\u0440\\u044f\\u043d\\u0441\\u043a\",\n          \"\\u042f\\u043c\\u0431\\u0443\\u0440\\u0433 (\\u042f\\u043c\\u0430\\u043b\\u043e-\\u041d\\u0435\\u043d\\u0435\\u0446\\u043a\\u0438\\u0439 \\u0410\\u041e)\",\n          \"\\u041a\\u0430\\u043c\\u0447\\u0430\\u0442\\u0441\\u043a\\u0438\\u0439 \\u043a\\u0440\\u0430\\u0439\"\n        ],\n        \"semantic_type\": \"\",\n        \"description\": \"\"\n      }\n    },\n    {\n      \"column\": \"employers_count\",\n      \"properties\": {\n        \"dtype\": \"number\",\n        \"std\": 179,\n        \"min\": 0,\n        \"max\": 5864,\n        \"num_unique_values\": 102,\n        \"samples\": [\n          157,\n          12,\n          50\n        ],\n        \"semantic_type\": \"\",\n        \"description\": \"\"\n      }\n    },\n    {\n      \"column\": \"vacancies_count\",\n      \"properties\": {\n        \"dtype\": \"number\",\n        \"std\": 225,\n        \"min\": 0,\n        \"max\": 5333,\n        \"num_unique_values\": 136,\n        \"samples\": [\n          90,\n          199,\n          123\n        ],\n        \"semantic_type\": \"\",\n        \"description\": \"\"\n      }\n    }\n  ]\n}"
            }
          },
          "metadata": {},
          "execution_count": 127
        }
      ]
    },
    {
      "cell_type": "markdown",
      "source": [
        "# Комментарии к заданию 5.2\n",
        "1. `SELECT a.name AS region` выбираем столбец \"name\" из таблицы \"areas\".\n",
        "2. `count(DISTINCT e.id) AS employers_count` дает количество уникальных записей в таблице \"employers\". Результатом будет столбец \"employers_count\".\n",
        "3. `count(DISTINCT v.id) AS vacancies_count` дает количество уникальных записей в таблице \"vacancies\". Результатом будет столбец \"vacancies_count\".\n",
        "4. `FROM areas a`, `LEFT JOIN employers e ON e.area = a.id` и `LEFT JOIN vacancies v ON v.area_id = a.id` объединяют таблицы \"areas\", \"employers\" и \"vacancies\" по ключам id, area и area_id соответственно. Используется `LEFT JOIN`, чтобы включить все области из таблицы \"areas\", даже если в таблицах \"employers\" и \"vacancies\" нет соответствующих значений.\n",
        "6. `GROUP BY a.id` группирует результаты по столбцу id из таблицы \"areas\".\n",
        "7. `ORDER BY count(DISTINCT v.id) DESC, count(DISTINCT e.id) DESC` - сортируем результаты по убыванию количества вакансий в каждой области, а затем по убыванию количества работодателей."
      ],
      "metadata": {
        "id": "5CBzVsXu5ueY"
      },
      "id": "5CBzVsXu5ueY"
    },
    {
      "cell_type": "code",
      "source": [
        "# Запрос для определения региона с наибольшим количеством работодателей среди регионов, в которых нет вакансий.\n",
        "query_5_2_1 = f'''SELECT a.name AS region, count(DISTINCT e.id) AS employers_count\n",
        "FROM areas a\n",
        "LEFT JOIN employers e ON e.area = a.id\n",
        "WHERE a.id NOT IN (SELECT area_id FROM vacancies)\n",
        "GROUP BY a.id\n",
        "ORDER BY count(DISTINCT e.id) DESC\n",
        "LIMIT 1\n",
        "'''\n",
        "df12 = pd.read_sql_query(query_5_2_1, connection)"
      ],
      "metadata": {
        "colab": {
          "base_uri": "https://localhost:8080/"
        },
        "collapsed": true,
        "id": "iLzFKuYQ0KpY",
        "outputId": "cc657ccf-8c65-4bf3-eb02-ccc539861133"
      },
      "id": "iLzFKuYQ0KpY",
      "execution_count": null,
      "outputs": [
        {
          "output_type": "stream",
          "name": "stderr",
          "text": [
            "<ipython-input-130-900fc18d3db6>:9: UserWarning: pandas only supports SQLAlchemy connectable (engine/connection) or database string URI or sqlite3 DBAPI2 connection. Other DBAPI2 objects are not tested. Please consider using SQLAlchemy.\n",
            "  df12 = pd.read_sql_query(query_5_2_1, connection)\n"
          ]
        }
      ]
    },
    {
      "cell_type": "code",
      "source": [
        "print(df12)"
      ],
      "metadata": {
        "colab": {
          "base_uri": "https://localhost:8080/"
        },
        "id": "Ha7AD_1O1R1w",
        "outputId": "965183f8-1cb7-4302-b788-999cd230649c"
      },
      "id": "Ha7AD_1O1R1w",
      "execution_count": null,
      "outputs": [
        {
          "output_type": "stream",
          "name": "stdout",
          "text": [
            "   region  employers_count\n",
            "0  Россия              410\n"
          ]
        }
      ]
    },
    {
      "cell_type": "markdown",
      "source": [
        "# Комментарии к заданию 5.2.1\n",
        "1. `SELECT a.name AS region, count(DISTINCT e.id) AS employers_count`\n",
        "Выбираем название региона из таблицы \"areas\", определяем количество уникальных работодателей в каждом регионе.\n",
        "2. `FROM areas a`, `LEFT JOIN employers e ON e.area = a.id` К основной таблице \"areas\" присоединяем таблицу \"employers\" по ключу \"area\". LEFT JOIN означает, что будут выбраны все записи из таблицы \"areas\", даже если для них нет соответствующих записей в таблице \"employers\".\n",
        "3 `WHERE a.id NOT IN (SELECT area_id FROM vacancies)` фильтруем регионы, исключая те, которые присутствуют в подзапросе. Подзапрос выбирает все \"area_id\" из таблицы vacancies. Таким образом, остаются только те регионы, в которых нет вакансий.\n",
        "4. `GROUP BY a.id` группируем результаты по идентификатору региона (a.id).\n",
        "5. `ORDER BY count(DISTINCT e.id) DESC` - сортируем результаты по количеству уникальных работодателей в порядке убывания.\n",
        "6. `LIMIT 1` оставляем один регион с наибольшим количеством уникальных работодателей.\n",
        "\n",
        "."
      ],
      "metadata": {
        "id": "wGrAhaFnA3DN"
      },
      "id": "wGrAhaFnA3DN"
    },
    {
      "cell_type": "markdown",
      "id": "f2fe0acb-ab1a-4e15-9326-2560e22d73c1",
      "metadata": {
        "id": "f2fe0acb-ab1a-4e15-9326-2560e22d73c1"
      },
      "source": [
        "3. Для каждого работодателя посчитайте количество регионов, в которых он публикует свои вакансии. Отсортируйте результат по убыванию количества.\n"
      ]
    },
    {
      "cell_type": "code",
      "execution_count": null,
      "id": "6271f8ad-bd2e-4196-ae4a-5b39c4c1010e",
      "metadata": {
        "id": "6271f8ad-bd2e-4196-ae4a-5b39c4c1010e",
        "colab": {
          "base_uri": "https://localhost:8080/"
        },
        "collapsed": true,
        "outputId": "dea3fff4-fbfa-4350-cc4d-201515405cb4"
      },
      "outputs": [
        {
          "output_type": "stream",
          "name": "stderr",
          "text": [
            "<ipython-input-133-983beac55fef>:7: UserWarning: pandas only supports SQLAlchemy connectable (engine/connection) or database string URI or sqlite3 DBAPI2 connection. Other DBAPI2 objects are not tested. Please consider using SQLAlchemy.\n",
            "  df13 = pd.read_sql_query(query_5_3, connection)\n"
          ]
        }
      ],
      "source": [
        "query_5_3 = f'''SELECT e.name, count(DISTINCT v.area_id)\n",
        "FROM employers e\n",
        "JOIN vacancies v ON v.employer_id = e.id\n",
        "GROUP BY e.id\n",
        "ORDER BY count(DISTINCT v.area_id) DESC\n",
        "'''\n",
        "df13 = pd.read_sql_query(query_5_3, connection)"
      ]
    },
    {
      "cell_type": "code",
      "source": [
        "df13.head()"
      ],
      "metadata": {
        "id": "1EIvX3HasH4F",
        "colab": {
          "base_uri": "https://localhost:8080/",
          "height": 206
        },
        "outputId": "a3cc81fd-fa50-47eb-8a0c-37ad5b8f39f1"
      },
      "id": "1EIvX3HasH4F",
      "execution_count": null,
      "outputs": [
        {
          "output_type": "execute_result",
          "data": {
            "text/plain": [
              "                     name  count\n",
              "0                  Яндекс    181\n",
              "1              Ростелеком    152\n",
              "2              Спецремонт    116\n",
              "3  Поляков Денис Иванович     88\n",
              "4               ООО ЕФИН      71"
            ],
            "text/html": [
              "\n",
              "  <div id=\"df-2c27947e-af52-46ce-ac6c-58ed495ffaf2\" class=\"colab-df-container\">\n",
              "    <div>\n",
              "<style scoped>\n",
              "    .dataframe tbody tr th:only-of-type {\n",
              "        vertical-align: middle;\n",
              "    }\n",
              "\n",
              "    .dataframe tbody tr th {\n",
              "        vertical-align: top;\n",
              "    }\n",
              "\n",
              "    .dataframe thead th {\n",
              "        text-align: right;\n",
              "    }\n",
              "</style>\n",
              "<table border=\"1\" class=\"dataframe\">\n",
              "  <thead>\n",
              "    <tr style=\"text-align: right;\">\n",
              "      <th></th>\n",
              "      <th>name</th>\n",
              "      <th>count</th>\n",
              "    </tr>\n",
              "  </thead>\n",
              "  <tbody>\n",
              "    <tr>\n",
              "      <th>0</th>\n",
              "      <td>Яндекс</td>\n",
              "      <td>181</td>\n",
              "    </tr>\n",
              "    <tr>\n",
              "      <th>1</th>\n",
              "      <td>Ростелеком</td>\n",
              "      <td>152</td>\n",
              "    </tr>\n",
              "    <tr>\n",
              "      <th>2</th>\n",
              "      <td>Спецремонт</td>\n",
              "      <td>116</td>\n",
              "    </tr>\n",
              "    <tr>\n",
              "      <th>3</th>\n",
              "      <td>Поляков Денис Иванович</td>\n",
              "      <td>88</td>\n",
              "    </tr>\n",
              "    <tr>\n",
              "      <th>4</th>\n",
              "      <td>ООО ЕФИН</td>\n",
              "      <td>71</td>\n",
              "    </tr>\n",
              "  </tbody>\n",
              "</table>\n",
              "</div>\n",
              "    <div class=\"colab-df-buttons\">\n",
              "\n",
              "  <div class=\"colab-df-container\">\n",
              "    <button class=\"colab-df-convert\" onclick=\"convertToInteractive('df-2c27947e-af52-46ce-ac6c-58ed495ffaf2')\"\n",
              "            title=\"Convert this dataframe to an interactive table.\"\n",
              "            style=\"display:none;\">\n",
              "\n",
              "  <svg xmlns=\"http://www.w3.org/2000/svg\" height=\"24px\" viewBox=\"0 -960 960 960\">\n",
              "    <path d=\"M120-120v-720h720v720H120Zm60-500h600v-160H180v160Zm220 220h160v-160H400v160Zm0 220h160v-160H400v160ZM180-400h160v-160H180v160Zm440 0h160v-160H620v160ZM180-180h160v-160H180v160Zm440 0h160v-160H620v160Z\"/>\n",
              "  </svg>\n",
              "    </button>\n",
              "\n",
              "  <style>\n",
              "    .colab-df-container {\n",
              "      display:flex;\n",
              "      gap: 12px;\n",
              "    }\n",
              "\n",
              "    .colab-df-convert {\n",
              "      background-color: #E8F0FE;\n",
              "      border: none;\n",
              "      border-radius: 50%;\n",
              "      cursor: pointer;\n",
              "      display: none;\n",
              "      fill: #1967D2;\n",
              "      height: 32px;\n",
              "      padding: 0 0 0 0;\n",
              "      width: 32px;\n",
              "    }\n",
              "\n",
              "    .colab-df-convert:hover {\n",
              "      background-color: #E2EBFA;\n",
              "      box-shadow: 0px 1px 2px rgba(60, 64, 67, 0.3), 0px 1px 3px 1px rgba(60, 64, 67, 0.15);\n",
              "      fill: #174EA6;\n",
              "    }\n",
              "\n",
              "    .colab-df-buttons div {\n",
              "      margin-bottom: 4px;\n",
              "    }\n",
              "\n",
              "    [theme=dark] .colab-df-convert {\n",
              "      background-color: #3B4455;\n",
              "      fill: #D2E3FC;\n",
              "    }\n",
              "\n",
              "    [theme=dark] .colab-df-convert:hover {\n",
              "      background-color: #434B5C;\n",
              "      box-shadow: 0px 1px 3px 1px rgba(0, 0, 0, 0.15);\n",
              "      filter: drop-shadow(0px 1px 2px rgba(0, 0, 0, 0.3));\n",
              "      fill: #FFFFFF;\n",
              "    }\n",
              "  </style>\n",
              "\n",
              "    <script>\n",
              "      const buttonEl =\n",
              "        document.querySelector('#df-2c27947e-af52-46ce-ac6c-58ed495ffaf2 button.colab-df-convert');\n",
              "      buttonEl.style.display =\n",
              "        google.colab.kernel.accessAllowed ? 'block' : 'none';\n",
              "\n",
              "      async function convertToInteractive(key) {\n",
              "        const element = document.querySelector('#df-2c27947e-af52-46ce-ac6c-58ed495ffaf2');\n",
              "        const dataTable =\n",
              "          await google.colab.kernel.invokeFunction('convertToInteractive',\n",
              "                                                    [key], {});\n",
              "        if (!dataTable) return;\n",
              "\n",
              "        const docLinkHtml = 'Like what you see? Visit the ' +\n",
              "          '<a target=\"_blank\" href=https://colab.research.google.com/notebooks/data_table.ipynb>data table notebook</a>'\n",
              "          + ' to learn more about interactive tables.';\n",
              "        element.innerHTML = '';\n",
              "        dataTable['output_type'] = 'display_data';\n",
              "        await google.colab.output.renderOutput(dataTable, element);\n",
              "        const docLink = document.createElement('div');\n",
              "        docLink.innerHTML = docLinkHtml;\n",
              "        element.appendChild(docLink);\n",
              "      }\n",
              "    </script>\n",
              "  </div>\n",
              "\n",
              "\n",
              "<div id=\"df-be18328b-9ee2-4820-9bd8-4766dba61573\">\n",
              "  <button class=\"colab-df-quickchart\" onclick=\"quickchart('df-be18328b-9ee2-4820-9bd8-4766dba61573')\"\n",
              "            title=\"Suggest charts\"\n",
              "            style=\"display:none;\">\n",
              "\n",
              "<svg xmlns=\"http://www.w3.org/2000/svg\" height=\"24px\"viewBox=\"0 0 24 24\"\n",
              "     width=\"24px\">\n",
              "    <g>\n",
              "        <path d=\"M19 3H5c-1.1 0-2 .9-2 2v14c0 1.1.9 2 2 2h14c1.1 0 2-.9 2-2V5c0-1.1-.9-2-2-2zM9 17H7v-7h2v7zm4 0h-2V7h2v10zm4 0h-2v-4h2v4z\"/>\n",
              "    </g>\n",
              "</svg>\n",
              "  </button>\n",
              "\n",
              "<style>\n",
              "  .colab-df-quickchart {\n",
              "      --bg-color: #E8F0FE;\n",
              "      --fill-color: #1967D2;\n",
              "      --hover-bg-color: #E2EBFA;\n",
              "      --hover-fill-color: #174EA6;\n",
              "      --disabled-fill-color: #AAA;\n",
              "      --disabled-bg-color: #DDD;\n",
              "  }\n",
              "\n",
              "  [theme=dark] .colab-df-quickchart {\n",
              "      --bg-color: #3B4455;\n",
              "      --fill-color: #D2E3FC;\n",
              "      --hover-bg-color: #434B5C;\n",
              "      --hover-fill-color: #FFFFFF;\n",
              "      --disabled-bg-color: #3B4455;\n",
              "      --disabled-fill-color: #666;\n",
              "  }\n",
              "\n",
              "  .colab-df-quickchart {\n",
              "    background-color: var(--bg-color);\n",
              "    border: none;\n",
              "    border-radius: 50%;\n",
              "    cursor: pointer;\n",
              "    display: none;\n",
              "    fill: var(--fill-color);\n",
              "    height: 32px;\n",
              "    padding: 0;\n",
              "    width: 32px;\n",
              "  }\n",
              "\n",
              "  .colab-df-quickchart:hover {\n",
              "    background-color: var(--hover-bg-color);\n",
              "    box-shadow: 0 1px 2px rgba(60, 64, 67, 0.3), 0 1px 3px 1px rgba(60, 64, 67, 0.15);\n",
              "    fill: var(--button-hover-fill-color);\n",
              "  }\n",
              "\n",
              "  .colab-df-quickchart-complete:disabled,\n",
              "  .colab-df-quickchart-complete:disabled:hover {\n",
              "    background-color: var(--disabled-bg-color);\n",
              "    fill: var(--disabled-fill-color);\n",
              "    box-shadow: none;\n",
              "  }\n",
              "\n",
              "  .colab-df-spinner {\n",
              "    border: 2px solid var(--fill-color);\n",
              "    border-color: transparent;\n",
              "    border-bottom-color: var(--fill-color);\n",
              "    animation:\n",
              "      spin 1s steps(1) infinite;\n",
              "  }\n",
              "\n",
              "  @keyframes spin {\n",
              "    0% {\n",
              "      border-color: transparent;\n",
              "      border-bottom-color: var(--fill-color);\n",
              "      border-left-color: var(--fill-color);\n",
              "    }\n",
              "    20% {\n",
              "      border-color: transparent;\n",
              "      border-left-color: var(--fill-color);\n",
              "      border-top-color: var(--fill-color);\n",
              "    }\n",
              "    30% {\n",
              "      border-color: transparent;\n",
              "      border-left-color: var(--fill-color);\n",
              "      border-top-color: var(--fill-color);\n",
              "      border-right-color: var(--fill-color);\n",
              "    }\n",
              "    40% {\n",
              "      border-color: transparent;\n",
              "      border-right-color: var(--fill-color);\n",
              "      border-top-color: var(--fill-color);\n",
              "    }\n",
              "    60% {\n",
              "      border-color: transparent;\n",
              "      border-right-color: var(--fill-color);\n",
              "    }\n",
              "    80% {\n",
              "      border-color: transparent;\n",
              "      border-right-color: var(--fill-color);\n",
              "      border-bottom-color: var(--fill-color);\n",
              "    }\n",
              "    90% {\n",
              "      border-color: transparent;\n",
              "      border-bottom-color: var(--fill-color);\n",
              "    }\n",
              "  }\n",
              "</style>\n",
              "\n",
              "  <script>\n",
              "    async function quickchart(key) {\n",
              "      const quickchartButtonEl =\n",
              "        document.querySelector('#' + key + ' button');\n",
              "      quickchartButtonEl.disabled = true;  // To prevent multiple clicks.\n",
              "      quickchartButtonEl.classList.add('colab-df-spinner');\n",
              "      try {\n",
              "        const charts = await google.colab.kernel.invokeFunction(\n",
              "            'suggestCharts', [key], {});\n",
              "      } catch (error) {\n",
              "        console.error('Error during call to suggestCharts:', error);\n",
              "      }\n",
              "      quickchartButtonEl.classList.remove('colab-df-spinner');\n",
              "      quickchartButtonEl.classList.add('colab-df-quickchart-complete');\n",
              "    }\n",
              "    (() => {\n",
              "      let quickchartButtonEl =\n",
              "        document.querySelector('#df-be18328b-9ee2-4820-9bd8-4766dba61573 button');\n",
              "      quickchartButtonEl.style.display =\n",
              "        google.colab.kernel.accessAllowed ? 'block' : 'none';\n",
              "    })();\n",
              "  </script>\n",
              "</div>\n",
              "\n",
              "    </div>\n",
              "  </div>\n"
            ],
            "application/vnd.google.colaboratory.intrinsic+json": {
              "type": "dataframe",
              "variable_name": "df13",
              "summary": "{\n  \"name\": \"df13\",\n  \"rows\": 14906,\n  \"fields\": [\n    {\n      \"column\": \"name\",\n      \"properties\": {\n        \"dtype\": \"string\",\n        \"num_unique_values\": 14766,\n        \"samples\": [\n          \"\\u041b\\u0438\\u043f\\u0435\\u0446\\u043a\\u043e\\u0435 \\u041c\\u044f\\u0441\\u043e\",\n          \"\\u041d\\u042d\\u041e \\u0426\\u0435\\u043d\\u0442\\u0440\",\n          \"\\u041f\\u0440\\u0438\\u0437\\u043c\\u0430 \\u041f\\u0438\\u043a\"\n        ],\n        \"semantic_type\": \"\",\n        \"description\": \"\"\n      }\n    },\n    {\n      \"column\": \"count\",\n      \"properties\": {\n        \"dtype\": \"number\",\n        \"std\": 3,\n        \"min\": 1,\n        \"max\": 181,\n        \"num_unique_values\": 47,\n        \"samples\": [\n          20,\n          8,\n          21\n        ],\n        \"semantic_type\": \"\",\n        \"description\": \"\"\n      }\n    }\n  ]\n}"
            }
          },
          "metadata": {},
          "execution_count": 134
        }
      ]
    },
    {
      "cell_type": "markdown",
      "source": [
        "# Комментарии к заданию 5.3\n",
        "1. `SELECT e.name, count(DISTINCT v.area_id)`\n",
        "Выбираем название работодателя из таблицы \"employres\", определяем количество уникальных регионов в, котрых работодатель публикует вакансии по таблице \"vacancies\".\n",
        "2. `FROM employers e`, `JOIN vacancies v ON v.employer_id = e.id` К основной таблице \"employers\" присоединяем таблицу \"vacancies\" по ключам \"v.employer_id\" и \"e.id\".\n",
        "4. `GROUP BY e.id` группируем результаты по идентификатору работодателя (e.id).\n",
        "5. `ORDER BY count(DISTINCT v.area_id) DESC` - сортируем по количеству уникальных регионов в порядке убывания."
      ],
      "metadata": {
        "id": "fSlyd4AgRLgR"
      },
      "id": "fSlyd4AgRLgR"
    },
    {
      "cell_type": "markdown",
      "id": "eab2206d-d95b-468b-8e5f-34381abf0ce7",
      "metadata": {
        "id": "eab2206d-d95b-468b-8e5f-34381abf0ce7"
      },
      "source": [
        "4. Напишите запрос для подсчёта количества работодателей, у которых не указана сфера деятельности."
      ]
    },
    {
      "cell_type": "code",
      "execution_count": null,
      "id": "80defb23-bfb1-4a18-8be6-bf36aa7165d5",
      "metadata": {
        "id": "80defb23-bfb1-4a18-8be6-bf36aa7165d5",
        "colab": {
          "base_uri": "https://localhost:8080/"
        },
        "collapsed": true,
        "outputId": "5965c893-bd13-42d8-b41c-4d94336baa94"
      },
      "outputs": [
        {
          "output_type": "stream",
          "name": "stderr",
          "text": [
            "<ipython-input-135-ddef7b60111b>:7: UserWarning: pandas only supports SQLAlchemy connectable (engine/connection) or database string URI or sqlite3 DBAPI2 connection. Other DBAPI2 objects are not tested. Please consider using SQLAlchemy.\n",
            "  df14 = pd.read_sql_query(query_5_4, connection)\n"
          ]
        }
      ],
      "source": [
        "query_5_4 = f'''SELECT COUNT(e.id)\n",
        "FROM employers e\n",
        "LEFT JOIN employers_industries ei ON ei.employer_id = e.id\n",
        "WHERE ei.industry_id is null\n",
        "\n",
        "'''\n",
        "df14 = pd.read_sql_query(query_5_4, connection)"
      ]
    },
    {
      "cell_type": "code",
      "source": [
        "print(df14)"
      ],
      "metadata": {
        "id": "Dp_yCx6ysQSu",
        "colab": {
          "base_uri": "https://localhost:8080/"
        },
        "outputId": "42656b43-c3a3-42a2-9659-1be83f2f54a6"
      },
      "id": "Dp_yCx6ysQSu",
      "execution_count": null,
      "outputs": [
        {
          "output_type": "stream",
          "name": "stdout",
          "text": [
            "   count\n",
            "0   8419\n"
          ]
        }
      ]
    },
    {
      "cell_type": "markdown",
      "source": [
        "# Комментарии к заданию 5.4\n",
        "1. `SELECT count(e.id)` - считаем уникальных работодателей.\n",
        "2. `FROM employers e` `LEFT JOIN employers_industries ei ON ei.employer_id = e`id` - к основной таблице \"employers\" присоединяем таблицу \"employrs_industries\" по ключам \"ei.employer_id\" и \"e.id\".\n",
        "4. `WHERE ei.industry_id is null` Применяем условие, по которому в запрос попадают только, те работодатели, для которых не указана сфера деятельности."
      ],
      "metadata": {
        "id": "azvHCb_mUrub"
      },
      "id": "azvHCb_mUrub"
    },
    {
      "cell_type": "markdown",
      "id": "0112af31-f6b0-4e3b-82ab-71296e752e5e",
      "metadata": {
        "id": "0112af31-f6b0-4e3b-82ab-71296e752e5e"
      },
      "source": [
        "5. Напишите запрос, чтобы узнать название компании, находящейся на третьем месте в алфавитном списке (по названию) компаний, у которых указано четыре сферы деятельности."
      ]
    },
    {
      "cell_type": "code",
      "execution_count": null,
      "id": "973b0cfc-a972-470a-8b4a-68744ef220c4",
      "metadata": {
        "id": "973b0cfc-a972-470a-8b4a-68744ef220c4",
        "colab": {
          "base_uri": "https://localhost:8080/"
        },
        "collapsed": true,
        "outputId": "6b425a44-0936-4c5a-8a14-2b5d70fd9d3a"
      },
      "outputs": [
        {
          "output_type": "stream",
          "name": "stderr",
          "text": [
            "<ipython-input-15-839dff60fa93>:9: UserWarning: pandas only supports SQLAlchemy connectable (engine/connection) or database string URI or sqlite3 DBAPI2 connection. Other DBAPI2 objects are not tested. Please consider using SQLAlchemy.\n",
            "  df15 = pd.read_sql_query(query_5_5, connection)\n"
          ]
        }
      ],
      "source": [
        "query_5_5 = f'''SELECT DISTINCT e.name\n",
        "FROM employers e\n",
        "JOIN employers_industries ei ON ei.employer_id = e.id\n",
        "GROUP BY e.id\n",
        "HAVING COUNT(ei.industry_id) = 4\n",
        "ORDER BY 1\n",
        "OFFSET 2 LIMIT 1\n",
        "'''\n",
        "df15 = pd.read_sql_query(query_5_5, connection)"
      ]
    },
    {
      "cell_type": "code",
      "source": [
        "print(df15)"
      ],
      "metadata": {
        "id": "xsPtpp8EsaED",
        "colab": {
          "base_uri": "https://localhost:8080/"
        },
        "outputId": "0db558fe-eb2d-4f9b-a3cf-e4f99288d9e5"
      },
      "id": "xsPtpp8EsaED",
      "execution_count": null,
      "outputs": [
        {
          "output_type": "stream",
          "name": "stdout",
          "text": [
            "   name\n",
            "0  2ГИС\n"
          ]
        }
      ]
    },
    {
      "cell_type": "markdown",
      "source": [
        "# Комментарии к заданию 5.5\n",
        "1. `SELECT DISTINCT e.name` - Выбираем название работодателя из таблицы \"employres\".\n",
        "2. `FROM employers e`, `JOIN employers_industries ei ON ei.employer_id = e.id`  к основной таблице \"employers\" присоединяем таблицу \"employrs_industries\" по ключам \"ei.employer_id\" и \"e.id\".\n",
        "3. `GROUP BY e.id` - группируем по id работодателя.\n",
        "4. `HAVING COUNT(ei.industry_id) = 4` - применяем условие \"количество сфер деятельности равно четырем\" для сгруппировнного столбца работодателей.\n",
        "5. `ORDER BY 1` - сортируем по названию работодателей.\n",
        "6. `OFFSET 2 LIMIT 1` - оставляем компанию , находящуюся на третьем месте в отсортированном столбце."
      ],
      "metadata": {
        "id": "07BMo_vZ2AVE"
      },
      "id": "07BMo_vZ2AVE"
    },
    {
      "cell_type": "markdown",
      "id": "3bfcfdaf-755d-4d2b-8ed8-326201dc07ab",
      "metadata": {
        "id": "3bfcfdaf-755d-4d2b-8ed8-326201dc07ab"
      },
      "source": [
        "6. С помощью запроса выясните, у какого количества работодателей в качестве сферы деятельности указана Разработка программного обеспечения.\n"
      ]
    },
    {
      "cell_type": "code",
      "execution_count": null,
      "id": "ad3f270f-2991-47eb-929b-e8f88a55b0d1",
      "metadata": {
        "id": "ad3f270f-2991-47eb-929b-e8f88a55b0d1",
        "colab": {
          "base_uri": "https://localhost:8080/"
        },
        "collapsed": true,
        "outputId": "04a7ac75-836d-451e-cfb9-b6506cce528e"
      },
      "outputs": [
        {
          "output_type": "stream",
          "name": "stderr",
          "text": [
            "<ipython-input-19-861fe4d1990b>:7: UserWarning: pandas only supports SQLAlchemy connectable (engine/connection) or database string URI or sqlite3 DBAPI2 connection. Other DBAPI2 objects are not tested. Please consider using SQLAlchemy.\n",
            "  df16 = pd.read_sql_query(query_5_6, connection)\n"
          ]
        }
      ],
      "source": [
        "query_5_6 = f'''SELECT COUNT(ei.employer_id)\n",
        "FROM employers_industries ei\n",
        "JOIN industries i ON ei.industry_id = i.id\n",
        "WHERE i.name = 'Разработка программного обеспечения'\n",
        "'''\n",
        "df16 = pd.read_sql_query(query_5_6, connection)"
      ]
    },
    {
      "cell_type": "code",
      "source": [
        "print(df16)"
      ],
      "metadata": {
        "id": "H72qxWM0shPR",
        "colab": {
          "base_uri": "https://localhost:8080/"
        },
        "outputId": "30d8d3b7-1453-4fea-bfdd-e60e2b13fcba"
      },
      "id": "H72qxWM0shPR",
      "execution_count": null,
      "outputs": [
        {
          "output_type": "stream",
          "name": "stdout",
          "text": [
            "   count\n",
            "0   3553\n"
          ]
        }
      ]
    },
    {
      "cell_type": "markdown",
      "source": [
        "# Комментарии к заданию 5.6\n",
        "1. `SELECT COUNT(ei.employer_id)` - считаем количество работодателей из таблицы \"employres_industries\".\n",
        "2. `FROM employers_industries ei`, `JOIN industries i ON ei.industry_id = i.id` - к основной таблице \"employres_industries\" присоединяем таблицу \"industries\" по ключам \"ei.industry_id\" и \"i.id\".\n",
        "3. `WHERE i.name = 'Разработка программного обеспечения'` - применяем условие отбора строк: сферой деятельности должна быть разработка программного обеспечения."
      ],
      "metadata": {
        "id": "XOloynSX7C6f"
      },
      "id": "XOloynSX7C6f"
    },
    {
      "cell_type": "markdown",
      "id": "7b02bb86-0546-40fb-94a4-242f050a5c57",
      "metadata": {
        "id": "7b02bb86-0546-40fb-94a4-242f050a5c57"
      },
      "source": [
        "7. Для компании «Яндекс» выведите список регионов-миллионников, в которых представлены вакансии компании, вместе с количеством вакансий в этих регионах. Также добавьте строку Total с общим количеством вакансий компании. Результат отсортируйте по возрастанию количества.\n",
        "\n",
        "Список городов-милионников надо взять [отсюда](https://ru.wikipedia.org/wiki/%D0%93%D0%BE%D1%80%D0%BE%D0%B4%D0%B0-%D0%BC%D0%B8%D0%BB%D0%BB%D0%B8%D0%BE%D0%BD%D0%B5%D1%80%D1%8B_%D0%A0%D0%BE%D1%81%D1%81%D0%B8%D0%B8).\n",
        "\n",
        "Если возникнут трудности с этим задание посмотрите материалы модуля  PYTHON-17. Как получать данные из веб-источников и API."
      ]
    },
    {
      "cell_type": "code",
      "source": [
        "import requests\n",
        "from bs4 import BeautifulSoup\n",
        "\n",
        "# URL страницы с городами-миллионниками\n",
        "url = 'https://ru.wikipedia.org/wiki/%D0%93%D0%BE%D1%80%D0%BE%D0%B4%D0%B0-%D0%BC%D0%B8%D0%BB%D0%BB%D0%B8%D0%BE%D0%BD%D0%B5%D1%80%D1%8B_%D0%A0%D0%BE%D1%81%D1%81%D0%B8%D0%B8'\n",
        "\n",
        "# Отправка запроса на страницу\n",
        "response = requests.get(url)\n",
        "soup = BeautifulSoup(response.text, 'html.parser')\n",
        "\n",
        "# Поиск всех таблиц на странице\n",
        "tables = soup.find_all('table')\n",
        "\n",
        "# Инициализация списка для городов\n",
        "cities = []\n",
        "\n",
        "# Проверка всех таблиц на наличие нужных данных\n",
        "for table in tables:\n",
        "    headers = [header.text.strip() for header in table.find_all('th')]\n",
        "    if 'Город' in headers:\n",
        "        # Извлечение данных из таблицы\n",
        "        for row in table.find_all('tr')[1:]:\n",
        "            columns = row.find_all('td')\n",
        "            if len(columns) > 1:\n",
        "                city_name = columns[1].text.strip()\n",
        "                if city_name and not city_name.startswith('Порядковые места'):\n",
        "                    cities.append(city_name)\n",
        "        break\n",
        "print(cities)"
      ],
      "metadata": {
        "id": "ZdfrL6gIs1Pn",
        "colab": {
          "base_uri": "https://localhost:8080/"
        },
        "outputId": "f6c39643-71f8-46d7-be5a-45ebb9c66832"
      },
      "id": "ZdfrL6gIs1Pn",
      "execution_count": null,
      "outputs": [
        {
          "output_type": "stream",
          "name": "stdout",
          "text": [
            "['Москва', 'Санкт-Петербург', 'Новосибирск', 'Екатеринбург', 'Казань', 'Красноярск', 'Нижний Новгород', 'Челябинск', 'Уфа', 'Самара', 'Ростов-на-Дону', 'Краснодар', 'Омск', 'Воронеж', 'Пермь', 'Волгоград']\n"
          ]
        }
      ]
    },
    {
      "cell_type": "code",
      "execution_count": null,
      "id": "5a0e32a4-e68a-4365-8a39-2fe24c542c36",
      "metadata": {
        "id": "5a0e32a4-e68a-4365-8a39-2fe24c542c36",
        "colab": {
          "base_uri": "https://localhost:8080/"
        },
        "collapsed": true,
        "outputId": "bb8d4431-758d-41f3-a565-0775424a9644"
      },
      "outputs": [
        {
          "output_type": "stream",
          "name": "stderr",
          "text": [
            "<ipython-input-26-c8ff96161d01>:13: UserWarning: pandas only supports SQLAlchemy connectable (engine/connection) or database string URI or sqlite3 DBAPI2 connection. Other DBAPI2 objects are not tested. Please consider using SQLAlchemy.\n",
            "  df17 = pd.read_sql_query(query_5_7, connection)\n"
          ]
        }
      ],
      "source": [
        "cities_str = ', '.join(f\"'{city}'\" for city in cities)\n",
        "query_5_7 = f'''SELECT\n",
        "    COALESCE(a.name, 'total') AS name,\n",
        "    COUNT(v.id) AS cnt\n",
        "FROM vacancies v\n",
        "JOIN areas a ON v.area_id = a.id\n",
        "JOIN employers e ON e.id = v.employer_id\n",
        "WHERE a.name IN ({cities_str})\n",
        "  AND e.name = 'Яндекс'\n",
        "GROUP BY ROLLUP(a.name);\n",
        "\n",
        "'''\n",
        "df17 = pd.read_sql_query(query_5_7, connection)"
      ]
    },
    {
      "cell_type": "code",
      "source": [
        "print(df17)"
      ],
      "metadata": {
        "id": "ttPhiO1rsvPq",
        "colab": {
          "base_uri": "https://localhost:8080/"
        },
        "outputId": "e5049262-2965-4c1f-f1b8-977e3f2c10ea"
      },
      "id": "ttPhiO1rsvPq",
      "execution_count": null,
      "outputs": [
        {
          "output_type": "stream",
          "name": "stdout",
          "text": [
            "               name  cnt\n",
            "0             total  485\n",
            "1            Казань   25\n",
            "2   Нижний Новгород   36\n",
            "3      Екатеринбург   39\n",
            "4       Новосибирск   35\n",
            "5        Красноярск   23\n",
            "6              Омск   21\n",
            "7           Воронеж   32\n",
            "8             Пермь   25\n",
            "9               Уфа   26\n",
            "10        Челябинск   22\n",
            "11           Москва   54\n",
            "12  Санкт-Петербург   42\n",
            "13        Волгоград   24\n",
            "14           Самара   26\n",
            "15   Ростов-на-Дону   25\n",
            "16        Краснодар   30\n"
          ]
        }
      ]
    },
    {
      "cell_type": "markdown",
      "source": [
        "# Комментарии к заданию 5.7\n",
        "1. `cities_str = ', '.join(f\"'{city}'\" for city in cities)` - список городов преобразуем в строку, где каждый город заключен в кавычки и разделен запятыми.\n",
        "2. `COALESCE(a.name, 'total') AS name` - функция COALESCE используется для замены значения NULL на ‘total’ в итоговой строке.\n",
        "3. `COUNT(v.id) AS cnt` `FROM vacancies v` подсчитываем количество вакансий из таблицы \"vacancies\"\n",
        "4. `JOIN areas a ON v.area_id = a.id`, `JOIN employers e ON e.id = v.employer_id` - к основной таблице \"vacancies\" присоединяем таблицу \"areas\" по ключу \"a.id\" и \"employers\" по ключу \"e.id\".\n",
        "5. `WHERE a.name IN ({cities_str})` - применяем условие отбора строк: регион, в котором представлены компании должен быть в списке  городов-миллионников.\n",
        "6. `GROUP BY ROLLUP(a.name)` группируем по названию региона. Оператор \"ROLLUP\" добавляет итоговую строку с суммарным количеством вакансий для всех указанных городов."
      ],
      "metadata": {
        "id": "-va1IeGZDW2E"
      },
      "id": "-va1IeGZDW2E"
    },
    {
      "cell_type": "markdown",
      "source": [],
      "metadata": {
        "id": "hGXREmniDRU0"
      },
      "id": "hGXREmniDRU0"
    },
    {
      "cell_type": "code",
      "source": [
        "# Выводы по анализу работодателей\n",
        "# 1. Абсолютным лидером по числу вакансий является компания \"Яндекс\" - крупнейшая IT -компания. \"Газпром\", идущий на пятом месте отстает от\n",
        "#  \"Яндекса\" в 6 раз! Много вакансий у крупных банков и сотовых операторов.\n",
        "# 2. Лидерами по количеству работодателей яляются крупные города: столицы и областные центры с развитой экономикой и инфраструктурой.\n",
        "# 3. Несколько неожиданным оказался результат запроса количества регионов в которых размещены вакансии работодателей. Если с \"Яндексом\" все понятно,\n",
        "# то как мог оказаться в лидерах Поляков Денис Иванович?? Кто это вообще?\n",
        "# 4. Имеется большое количество работодателей, не указывающих сферу деятельности.\n",
        "# 5. Весьма востребованны разработчики ПО.\n",
        "# 6. Количество вакансий возрастает в ряду \"Более 6 лет — Нет опыта — От 3 до 6 лет — От 1 года до 3 лет\".\n",
        "# Здравый смысл подсказывает что вакансий для более опытных работников должно быть больше. Возможное объяснение: работодатель указывает минимальный необходимый опыт работы."
      ],
      "metadata": {
        "id": "aGGyER-yt4SR"
      },
      "id": "aGGyER-yt4SR",
      "execution_count": null,
      "outputs": []
    },
    {
      "cell_type": "markdown",
      "id": "b1ef156a-efcb-49ce-bb23-90763e7f35b2",
      "metadata": {
        "tags": [],
        "id": "b1ef156a-efcb-49ce-bb23-90763e7f35b2"
      },
      "source": [
        "# Юнит 6. Предметный анализ"
      ]
    },
    {
      "cell_type": "markdown",
      "id": "b9cd50a0-992d-4988-8463-2b2b1c4629b4",
      "metadata": {
        "id": "b9cd50a0-992d-4988-8463-2b2b1c4629b4"
      },
      "source": [
        "1. Сколько вакансий имеет отношение к данным?\n",
        "\n",
        "Считаем, что вакансия имеет отношение к данным, если в её названии содержатся слова 'data' или 'данн'.\n",
        "\n",
        "*Подсказка: Обратите внимание, что названия вакансий могут быть написаны в любом регистре.*\n"
      ]
    },
    {
      "cell_type": "code",
      "execution_count": null,
      "id": "54ab0e50-c0f1-47cc-a54b-bc5c8bc363f9",
      "metadata": {
        "id": "54ab0e50-c0f1-47cc-a54b-bc5c8bc363f9",
        "colab": {
          "base_uri": "https://localhost:8080/"
        },
        "collapsed": true,
        "outputId": "a33baf05-2497-4414-e385-ae436e28337b"
      },
      "outputs": [
        {
          "output_type": "stream",
          "name": "stderr",
          "text": [
            "<ipython-input-4-9b0ef8be2118>:5: UserWarning: pandas only supports SQLAlchemy connectable (engine/connection) or database string URI or sqlite3 DBAPI2 connection. Other DBAPI2 objects are not tested. Please consider using SQLAlchemy.\n",
            "  df18 = pd.read_sql_query(query_6_1, connection)\n"
          ]
        }
      ],
      "source": [
        "query_6_1 = f'''SELECT COUNT(v.id)\n",
        "FROM vacancies v\n",
        "WHERE lower(v.name) LIKE '%данн%' OR lower(v.name) LIKE '%data%'\n",
        "'''\n",
        "df18 = pd.read_sql_query(query_6_1, connection)"
      ]
    },
    {
      "cell_type": "code",
      "source": [
        "print(df18)"
      ],
      "metadata": {
        "id": "9F1meAqsuUjd",
        "colab": {
          "base_uri": "https://localhost:8080/"
        },
        "outputId": "7cc93337-8d7c-413d-f3f2-7de1b6e240f8"
      },
      "id": "9F1meAqsuUjd",
      "execution_count": null,
      "outputs": [
        {
          "output_type": "stream",
          "name": "stdout",
          "text": [
            "   count\n",
            "0   1771\n"
          ]
        }
      ]
    },
    {
      "cell_type": "markdown",
      "source": [
        "# Комментарии к заданию 6.1\n",
        "1. `SELECT COUNT(v.id)` `FROM vacancies v`  подсчитываем количество вакансий из таблицы \"vacancies\"\n",
        "2. `WHERE lower(v.name) LIKE '%данн%' OR lower(v.name) LIKE '%data%'` - применяем условие отбора строк: прведенные к нижнему регистру названия вакансий должны содержать \"данн\" или \"data\"."
      ],
      "metadata": {
        "id": "b-4rgM-vEjwK"
      },
      "id": "b-4rgM-vEjwK"
    },
    {
      "cell_type": "markdown",
      "id": "4dea20cb-a36b-474a-a0b9-e08e8e3857a5",
      "metadata": {
        "id": "4dea20cb-a36b-474a-a0b9-e08e8e3857a5"
      },
      "source": [
        "2. Сколько есть подходящих вакансий для начинающего дата-сайентиста?\n",
        "Будем считать вакансиями для дата-сайентистов такие, в названии которых есть хотя бы одно из следующих сочетаний:\n",
        "* 'data scientist'\n",
        "* 'data science'\n",
        "* 'исследователь данных'\n",
        "* 'ML' (здесь не нужно брать вакансии по HTML)\n",
        "* 'machine learning'\n",
        "* 'машинн%обучен%'\n",
        "\n",
        "** В следующих заданиях мы продолжим работать с вакансиями по этому условию.*\n",
        "\n",
        "Считаем вакансиями для специалистов уровня Junior следующие:\n",
        "* в названии есть слово 'junior' *или*\n",
        "* требуемый опыт — Нет опыта *или*\n",
        "* тип трудоустройства — Стажировка.\n"
      ]
    },
    {
      "cell_type": "code",
      "execution_count": null,
      "id": "9c61b3c0-bb66-46c9-ae1e-81d3f5752b4a",
      "metadata": {
        "id": "9c61b3c0-bb66-46c9-ae1e-81d3f5752b4a",
        "colab": {
          "base_uri": "https://localhost:8080/"
        },
        "collapsed": true,
        "outputId": "68e3a3e3-68e7-4c59-d00e-bf10222d66db"
      },
      "outputs": [
        {
          "output_type": "stream",
          "name": "stderr",
          "text": [
            "<ipython-input-8-0f52fa1718d8>:16: UserWarning: pandas only supports SQLAlchemy connectable (engine/connection) or database string URI or sqlite3 DBAPI2 connection. Other DBAPI2 objects are not tested. Please consider using SQLAlchemy.\n",
            "  df19 = pd.read_sql_query(query_6_2, connection)\n"
          ]
        }
      ],
      "source": [
        "query_6_2 = f'''SELECT COUNT(*)\n",
        "FROM vacancies\n",
        "WHERE (\n",
        "    name ILIKE '%data scientist%' OR\n",
        "    name ILIKE '%data science%' OR\n",
        "    name ILIKE '%исследователь данных%' OR\n",
        "    (name LIKE '%ML%' AND name NOT LIKE '%HTML%') OR\n",
        "    name ILIKE '%machine learning%' OR\n",
        "    name ILIKE '%машинн%обучен%'\n",
        ") AND (\n",
        "    name ILIKE '%junior%' OR\n",
        "    experience = 'Нет опыта' OR\n",
        "    employment = 'Стажировка'\n",
        ");\n",
        "'''\n",
        "df19 = pd.read_sql_query(query_6_2, connection)"
      ]
    },
    {
      "cell_type": "code",
      "source": [
        "print(df19)"
      ],
      "metadata": {
        "id": "ZNM-LLYuu1dj",
        "colab": {
          "base_uri": "https://localhost:8080/"
        },
        "outputId": "01c47de1-b2fe-4b74-c145-8898c8f09c52"
      },
      "id": "ZNM-LLYuu1dj",
      "execution_count": null,
      "outputs": [
        {
          "output_type": "stream",
          "name": "stdout",
          "text": [
            "   count\n",
            "0     51\n"
          ]
        }
      ]
    },
    {
      "cell_type": "markdown",
      "source": [
        "# Комментарии к заданию 6.2\n",
        "1. `SELECT COUNT(*)` `FROM vacancies`  подсчитываем количество строк из таблицы \"vacancies\"\n",
        "2. `WHERE (\n",
        "    name ILIKE '%data scientist%' OR\n",
        "    name ILIKE '%data science%' OR\n",
        "    name ILIKE '%исследователь данных%' OR\n",
        "    (name LIKE '%ML%' AND name NOT LIKE '%HTML%') OR\n",
        "    name ILIKE '%machine learning%' OR\n",
        "    name ILIKE '%машинн%обучен%'\n",
        ") AND (\n",
        "    name ILIKE '%junior%' OR\n",
        "    experience = 'Нет опыта' OR\n",
        "    employment = 'Стажировка'\n",
        ");` - условие отбора строк состоит из двух частей, связанных логическим \"И\". Первая часть: названия вакансий должны содержать \"data scientist\" или \"data science\" или \"исследователь данных\" или \"machine learnin\" или \"машинн%обучен\" без учета регистра или \"XM\" и не \"HTML\" с учетом регистра. Вторая часть: в названии должно встречаться слово 'junior' или требуемый опыт — \"Нет опыта\" или\n",
        "тип трудоустройства — \"Стажировка\"."
      ],
      "metadata": {
        "id": "gDj31EC8HDuL"
      },
      "id": "gDj31EC8HDuL"
    },
    {
      "cell_type": "markdown",
      "id": "eedceb80-c5ca-480e-b27a-278dfb8b4438",
      "metadata": {
        "id": "eedceb80-c5ca-480e-b27a-278dfb8b4438"
      },
      "source": [
        "3. Сколько есть вакансий для DS, в которых в качестве ключевого навыка указан SQL или postgres?\n",
        "\n",
        "** Критерии для отнесения вакансии к DS указаны в предыдущем задании.*"
      ]
    },
    {
      "cell_type": "code",
      "execution_count": 5,
      "id": "69621713-0cc5-4f1b-a1d7-bb144fa6148c",
      "metadata": {
        "id": "69621713-0cc5-4f1b-a1d7-bb144fa6148c",
        "colab": {
          "base_uri": "https://localhost:8080/"
        },
        "collapsed": true,
        "outputId": "92fecb8c-34da-4dea-b119-2c5e6b072e05"
      },
      "outputs": [
        {
          "output_type": "stream",
          "name": "stderr",
          "text": [
            "<ipython-input-5-4e51e8a68f0a>:13: UserWarning: pandas only supports SQLAlchemy connectable (engine/connection) or database string URI or sqlite3 DBAPI2 connection. Other DBAPI2 objects are not tested. Please consider using SQLAlchemy.\n",
            "  df20 = pd.read_sql_query(query_6_3, connection)\n"
          ]
        }
      ],
      "source": [
        "query_6_3 = f'''SELECT COUNT(*)\n",
        "FROM vacancies\n",
        "WHERE (\n",
        "    name ILIKE '%data scientist%' OR\n",
        "    name ILIKE '%data science%' OR\n",
        "    name ILIKE '%исследователь данных%' OR\n",
        "    (name ILIKE '%ML%' AND name NOT ILIKE '%HTML%') OR\n",
        "    name ILIKE '%machine learning%' OR\n",
        "    name ILIKE '%машинн%обучен%'\n",
        ") AND (key_skills LIKE '%SQL%' OR key_skills LIKE '%postgres%')\n",
        "\n",
        "'''\n",
        "df20 = pd.read_sql_query(query_6_3, connection)"
      ]
    },
    {
      "cell_type": "code",
      "source": [
        "print(df20)"
      ],
      "metadata": {
        "id": "alA8WEAAvGdf",
        "colab": {
          "base_uri": "https://localhost:8080/"
        },
        "outputId": "6abfe554-39fb-44c1-f433-4eaa5ec98d1b"
      },
      "id": "alA8WEAAvGdf",
      "execution_count": 6,
      "outputs": [
        {
          "output_type": "stream",
          "name": "stdout",
          "text": [
            "   count\n",
            "0    229\n"
          ]
        }
      ]
    },
    {
      "cell_type": "markdown",
      "source": [
        "# Комментарии к заданию 6.3\n",
        "1. `SELECT COUNT(*)` `FROM vacancies`  подсчитываем количество строк из таблицы \"vacancies\"\n",
        "2.\n",
        "```\n",
        "WHERE (\n",
        "    name ILIKE '%data scientist%' OR\n",
        "    name ILIKE '%data science%' OR\n",
        "    name ILIKE '%исследователь данных%' OR\n",
        "    (name ILIKE '%ML%' AND name NOT ILIKE '%HTML%') OR\n",
        "    name ILIKE '%machine learning%' OR\n",
        "    name ILIKE '%машинн%обучен%'\n",
        ") AND (key_skills LIKE '%SQL%' OR key_skills LIKE '%postgres%')\n",
        "```\n",
        "Условие отбора строк состоит из двух частей связанных логическим \"И\". Первая часть совпадает с условиями 6.2. Вторая часть: в ключевых навыках должно содержаться \"SQL\" или \"postgres\", при этом важен регистр."
      ],
      "metadata": {
        "id": "vq4RM2FNsmsE"
      },
      "id": "vq4RM2FNsmsE"
    },
    {
      "cell_type": "markdown",
      "id": "1be1e9c6-37cf-4a5f-bfeb-04cab799dc80",
      "metadata": {
        "id": "1be1e9c6-37cf-4a5f-bfeb-04cab799dc80"
      },
      "source": [
        "4. Проверьте, насколько популярен Python в требованиях работодателей к DS.Для этого вычислите количество вакансий, в которых в качестве ключевого навыка указан Python.\n",
        "\n",
        "** Это можно сделать помощью запроса, аналогичного предыдущему.*"
      ]
    },
    {
      "cell_type": "code",
      "execution_count": 7,
      "id": "0036a355-9ccf-4564-8b01-73d8194297e7",
      "metadata": {
        "id": "0036a355-9ccf-4564-8b01-73d8194297e7",
        "colab": {
          "base_uri": "https://localhost:8080/"
        },
        "collapsed": true,
        "outputId": "18ec56e0-f3b5-4d82-9ce0-fdc636bf3c40"
      },
      "outputs": [
        {
          "output_type": "stream",
          "name": "stderr",
          "text": [
            "<ipython-input-7-6751e0635444>:12: UserWarning: pandas only supports SQLAlchemy connectable (engine/connection) or database string URI or sqlite3 DBAPI2 connection. Other DBAPI2 objects are not tested. Please consider using SQLAlchemy.\n",
            "  df21 = pd.read_sql_query(query_6_4, connection)\n"
          ]
        }
      ],
      "source": [
        "query_6_4 = f'''SELECT COUNT(*)\n",
        "FROM vacancies\n",
        "WHERE (\n",
        "    name ILIKE '%data scientist%' OR\n",
        "    name ILIKE '%data science%' OR\n",
        "    name ILIKE '%исследователь данных%' OR\n",
        "    (name ILIKE '%ML%' AND name NOT ILIKE '%HTML%') OR\n",
        "    name ILIKE '%machine learning%' OR\n",
        "    name ILIKE '%машинн%обучен%'\n",
        ") AND (key_skills LIKE '%Python%')\n",
        "'''\n",
        "df21 = pd.read_sql_query(query_6_4, connection)"
      ]
    },
    {
      "cell_type": "code",
      "source": [
        "print(df21)"
      ],
      "metadata": {
        "id": "1i-5WyucvQ6v",
        "colab": {
          "base_uri": "https://localhost:8080/"
        },
        "outputId": "e319e39d-e280-4b32-e8ec-e068a271eda0"
      },
      "id": "1i-5WyucvQ6v",
      "execution_count": 8,
      "outputs": [
        {
          "output_type": "stream",
          "name": "stdout",
          "text": [
            "   count\n",
            "0    357\n"
          ]
        }
      ]
    },
    {
      "cell_type": "markdown",
      "source": [
        "# Комментарии к заданию 6.4\n",
        "1. `SELECT COUNT(*)` `FROM vacancies`  подсчитываем количество строк из таблицы \"vacancies\"\n",
        "2.\n",
        "```\n",
        "WHERE (\n",
        "    name ILIKE '%data scientist%' OR\n",
        "    name ILIKE '%data science%' OR\n",
        "    name ILIKE '%исследователь данных%' OR\n",
        "    (name ILIKE '%ML%' AND name NOT ILIKE '%HTML%') OR\n",
        "    name ILIKE '%machine learning%' OR\n",
        "    name ILIKE '%машинн%обучен%'\n",
        ") AND (key_skills LIKE '%SQL%' OR key_skills LIKE '%postgres%')\n",
        "```\n",
        "Условие отбора строк состоит из двух частей связанных логическим \"И\". Первая часть совпадает с условиями 6.2. Вторая часть: в ключевых навыках должно содержаться \"Python\"."
      ],
      "metadata": {
        "id": "gOXBK1aWwmXg"
      },
      "id": "gOXBK1aWwmXg"
    },
    {
      "cell_type": "markdown",
      "id": "ec3c8db7-fa21-4a41-a994-1af63742a642",
      "metadata": {
        "id": "ec3c8db7-fa21-4a41-a994-1af63742a642"
      },
      "source": [
        "5. Сколько ключевых навыков в среднем указывают в вакансиях для DS?\n",
        "Ответ округлите до двух знаков после точки-разделителя."
      ]
    },
    {
      "cell_type": "code",
      "execution_count": 12,
      "id": "949132bc-d5b6-4611-8218-0b9a504d74f4",
      "metadata": {
        "id": "949132bc-d5b6-4611-8218-0b9a504d74f4",
        "colab": {
          "base_uri": "https://localhost:8080/"
        },
        "collapsed": true,
        "outputId": "333c9234-d63d-4bb4-c7c2-79a92e2cd7d1"
      },
      "outputs": [
        {
          "output_type": "stream",
          "name": "stderr",
          "text": [
            "<ipython-input-12-0a590c7fb479>:12: UserWarning: pandas only supports SQLAlchemy connectable (engine/connection) or database string URI or sqlite3 DBAPI2 connection. Other DBAPI2 objects are not tested. Please consider using SQLAlchemy.\n",
            "  df22 = pd.read_sql_query(query_6_5, connection)\n"
          ]
        }
      ],
      "source": [
        "query_6_5 = f'''SELECT round(avg(length(key_skills)-length(replace(key_skills, CHR(9), ''))+1), 2) cnt_ks\n",
        "FROM vacancies\n",
        "WHERE (\n",
        "    name ILIKE '%data scientist%' OR\n",
        "    name ILIKE '%data science%' OR\n",
        "    name ILIKE '%исследователь данных%' OR\n",
        "    (name LIKE '%ML%' AND name NOT LIKE '%HTML%') OR\n",
        "    name ILIKE '%machine learning%' OR\n",
        "    name ILIKE '%машинн%обучен%')\n",
        "AND key_skills IS NOT NULL\n",
        "'''\n",
        "df22 = pd.read_sql_query(query_6_5, connection)"
      ]
    },
    {
      "cell_type": "code",
      "source": [
        "print(df22)"
      ],
      "metadata": {
        "id": "a3V24Tvmviqk",
        "colab": {
          "base_uri": "https://localhost:8080/"
        },
        "outputId": "74c3fdb7-449b-4032-b872-9e25970443e8"
      },
      "id": "a3V24Tvmviqk",
      "execution_count": 14,
      "outputs": [
        {
          "output_type": "stream",
          "name": "stdout",
          "text": [
            "   cnt_ks\n",
            "0    6.41\n"
          ]
        }
      ]
    },
    {
      "cell_type": "markdown",
      "source": [
        "# Комментарии к заданию 6.5\n",
        "`SELECT round(avg(length(key_skills)-length(replace(key_skills, CHR(9), ‘’))+1), 2) cnt_ks`:\n",
        "\n",
        "`length(key_skills)` - вычисляем длину строки в поле \"key_skills\".\n",
        "\n",
        "`replace(key_skills, CHR(9), ‘’)` - удаляем все знаки табуляции (символы CHR(9)) из строки \"key_skills\".\n",
        "\n",
        "`length(replace(key_skills, CHR(9), ‘’))` - вычисляем длину строки после удаления знаков табуляции.\n",
        "\n",
        "`length(key_skills) - length(replace(key_skills, CHR(9), ‘’))` - вычисляем количество знаков табуляции в строке.\n",
        "\n",
        "`+1` - добавляем 1 к количеству знаков табуляции, чтобы получить количество ключевых навыков.\n",
        "\n",
        "`avg(…)` - вычисляем среднее количество ключевых навыков.\n",
        "\n",
        "`round(…, 2)` - округляем результат до двух знаков после запятой.\n",
        "\n",
        "`WHERE` задаем условия фильтрации:\n",
        "\n",
        "`name ILIKE ‘%data scientist%’` - ищем вакансии, в названии которых есть ‘data scientist’ (независимо от регистра).\n",
        "\n",
        "`name ILIKE ‘%data science%’` - ищем вакансии, в названии которых есть ‘data science’.\n",
        "\n",
        "`name ILIKE ‘%исследователь данных%’` - ищем вакансии, в названии которых есть ‘исследователь данных’.\n",
        "\n",
        "`(name LIKE ‘%ML%’ AND name NOT LIKE ‘%HTML%’)` - ищем вакансии, в названии которых есть ‘ML’, но нет ‘HTML’.\n",
        "\n",
        "`name ILIKE ‘%machine learning%’` ищем вакансии, в названии которых есть ‘machine learning’.\n",
        "\n",
        "`name ILIKE ‘%машинн%обучен%’`: ищем вакансии, в названии которых есть ‘машинное обучение’ или его вариации.\n",
        "\n",
        "`key_skills IS NOT NULL` - исключаем вакансии, у которых поле \"key_skills\" пустое."
      ],
      "metadata": {
        "id": "Yaz-9pJdzAmo"
      },
      "id": "Yaz-9pJdzAmo"
    },
    {
      "cell_type": "markdown",
      "id": "1041c17a-ca8f-4543-a0ca-32778914fb00",
      "metadata": {
        "id": "1041c17a-ca8f-4543-a0ca-32778914fb00"
      },
      "source": [
        "6. Напишите запрос, позволяющий вычислить, какую зарплату для DS в **среднем** указывают для каждого типа требуемого опыта (уникальное значение из поля *experience*).\n",
        "\n",
        "При решении задачи примите во внимание следующее:\n",
        "1. Рассматриваем только вакансии, у которых заполнено хотя бы одно из двух полей с зарплатой.\n",
        "2. Если заполнены оба поля с зарплатой, то считаем зарплату по каждой вакансии как сумму двух полей, делённую на 2. Если заполнено только одно из полей, то его и считаем зарплатой по вакансии.\n",
        "3. Если в расчётах участвует null, в результате он тоже даст null (посмотрите, что возвращает запрос select 1 + null). Чтобы избежать этой ситуацию, мы воспользуемся функцией [coalesce](https://postgrespro.ru/docs/postgresql/9.5/functions-conditional#functions-coalesce-nvl-ifnull), которая заменит null на значение, которое мы передадим. Например, посмотрите, что возвращает запрос `select 1 + coalesce(null, 0)`\n",
        "\n",
        "Выясните, на какую зарплату в среднем может рассчитывать дата-сайентист с опытом работы от 3 до 6 лет. Результат округлите до целого числа."
      ]
    },
    {
      "cell_type": "code",
      "execution_count": 15,
      "id": "6a743d39-5204-48d3-8271-b9f88e68d40e",
      "metadata": {
        "id": "6a743d39-5204-48d3-8271-b9f88e68d40e",
        "colab": {
          "base_uri": "https://localhost:8080/"
        },
        "collapsed": true,
        "outputId": "5cf9f651-2bb2-44d5-a523-a7567e02d455"
      },
      "outputs": [
        {
          "output_type": "stream",
          "name": "stderr",
          "text": [
            "<ipython-input-15-8bfd70f9d3ae>:13: UserWarning: pandas only supports SQLAlchemy connectable (engine/connection) or database string URI or sqlite3 DBAPI2 connection. Other DBAPI2 objects are not tested. Please consider using SQLAlchemy.\n",
            "  df23 = pd.read_sql_query(query_6_6, connection)\n"
          ]
        }
      ],
      "source": [
        "query_6_6 = f'''SELECT DISTINCT experience, AVG((COALESCE(salary_from, salary_to, null) + COALESCE(salary_to, salary_from, NULL)) / 2)\n",
        "FROM vacancies\n",
        "WHERE (\n",
        "    name ILIKE '%data scientist%' OR\n",
        "    name ILIKE '%data science%' OR\n",
        "    name ILIKE '%исследователь данных%' OR\n",
        "    (name LIKE '%ML%' AND name NOT LIKE '%HTML%') OR\n",
        "    name ILIKE '%machine learning%' OR\n",
        "    name ILIKE '%машинн%обучен%'\n",
        ")\n",
        "GROUP BY 1;\n",
        "'''\n",
        "df23 = pd.read_sql_query(query_6_6, connection)"
      ]
    },
    {
      "cell_type": "code",
      "source": [
        "print(df23)"
      ],
      "metadata": {
        "id": "aRIJ0mZEwU1_",
        "colab": {
          "base_uri": "https://localhost:8080/"
        },
        "outputId": "e1ef8121-56bf-4153-feb2-e2868baabe5a"
      },
      "id": "aRIJ0mZEwU1_",
      "execution_count": 16,
      "outputs": [
        {
          "output_type": "stream",
          "name": "stdout",
          "text": [
            "           experience            avg\n",
            "0         Более 6 лет            NaN\n",
            "1           Нет опыта   74642.857143\n",
            "2  От 1 года до 3 лет  139674.750000\n",
            "3       От 3 до 6 лет  243114.666667\n"
          ]
        }
      ]
    },
    {
      "cell_type": "markdown",
      "source": [
        "# Комментарии к заданию 6.6\n",
        "`SELECT DISTINCT experience, AVG((COALESCE(salary_from, salary_to, null) + COALESCE(salary_to, salary_from, NULL)) / 2)`:\n",
        "\n",
        "`DISTINCT experience`- выбираем уникальные значения опыта (experience).\n",
        "\n",
        "`AVG((COALESCE(salary_from, salary_to, null) + COALESCE(salary_to, salary_from, NULL)) / 2)` - вычисляем среднюю зарплату для DS. Если поля \"salary_from\" и \"salary_to\" оба заполнены для расчета среднего используется величина(\"salary_from\" + \"salary_to\"). Если поле \"salary_from\" заполнено, а \"salary_to\"\n",
        "нет, получаем (\"salary_from\" + \"salary_from\")/2 = \"salary_from\". Аналогично, если заполнено только \"salary_to\", получим (\"salary_to\" + \"salary_to\")/2 = \"salary_to\". Если незаполнены оба поля, замена \"NULL\" на \"NULL\" дает \"NULL\" и в результате получаем \"NULL\", который будет проигнорирован функцией AVG.\n",
        "\n",
        "`WHERE` задаем условия фильтрации:\n",
        "\n",
        "`name ILIKE ‘%data scientist%’` - ищем вакансии, в названии которых есть ‘data scientist’ (независимо от регистра).\n",
        "\n",
        "`name ILIKE ‘%data science%’` - ищем вакансии, в названии которых есть ‘data science’.\n",
        "\n",
        "`name ILIKE ‘%исследователь данных%’` - ищем вакансии, в названии которых есть ‘исследователь данных’.\n",
        "\n",
        "`(name LIKE ‘%ML%’ AND name NOT LIKE ‘%HTML%’)` - ищем вакансии, в названии которых есть ‘ML’, но нет ‘HTML’.\n",
        "\n",
        "`name ILIKE ‘%machine learning%’` ищем вакансии, в названии которых есть ‘machine learning’.\n",
        "\n",
        "`name ILIKE ‘%машинн%обучен%’`: ищем вакансии, в названии которых есть ‘машинное обучение’ или его вариации.\n"
      ],
      "metadata": {
        "id": "8OLgYBvkHnQe"
      },
      "id": "8OLgYBvkHnQe"
    },
    {
      "cell_type": "markdown",
      "id": "6a7892b4-4113-4746-adce-18aa2844f18e",
      "metadata": {
        "id": "6a7892b4-4113-4746-adce-18aa2844f18e"
      },
      "source": [
        "***"
      ]
    },
    {
      "cell_type": "code",
      "source": [
        "# Выводы по предметному анализу\n",
        "# 1. Имеется большое количество вакансий, связанных с данными, а именно 1771,  что составляет около 4% всех вакансий.\n",
        "# 2. Есть вакансии и для начинающих, причем довольно много. Их доля среди DS специалистов около 3%.\n",
        "# 3. Важное значение имеет знание языка SQL. Среди вакансий, связанных с данными 13% требуют знания SQL.\n",
        "# 4. Знание языка Python указано в качестве ключевого навыка в 20% DS вакансий. Я ожидал 40-50%.\n",
        "# 5. В среднем для специалистов DS требуется  6 ключевых навыков.\n",
        "# 6. Средняя зрплата специалистов DS для начинающих близка к средней по РФ. Для более опытных в разы больше."
      ],
      "metadata": {
        "id": "UjLWUptVwY1o"
      },
      "id": "UjLWUptVwY1o",
      "execution_count": null,
      "outputs": []
    },
    {
      "cell_type": "markdown",
      "source": [
        "# Общий вывод по проекту\n",
        "1. Проведен анализ вакансий из базы Head Hunter, содержащей данные по 1362 регионам и 294 сферам деятельности.\n",
        "2. Большинство рабочих мест сосредоточено в крупных городах: столицах, региональных и областных центрах с развитой экономикой и инфраструктурой.\n",
        "3. Средние значения предлагаемых зарплат от 71 до 110 тыс. руб. Интересно сравнить общий уровень зарплат с зарплатами в сфере DS. Средняя зрплата специалистов DS для начинающих близка к средней по по всем вакансиям. Для специалистов с опытом работы от 3 до 6 лет, средняя зарплата примерно в 3 раза больше.\n",
        "4. Как и следовало ожидать, к самым востребованным навыкам относятся владение Python и SQL (встречаются соответственно в 20 % и в 13 % DS вакансий). Большое значение имеет знание языка SQL (встречается в 13 % DS вакансий). Среди вакансий, связанных с данными 13% требуют знания SQL.\n",
        "5. В среднем для специалистов DS требуется  6 ключевых навыков, так что предстоит еще много поработать.\n",
        "\n",
        "\n"
      ],
      "metadata": {
        "id": "c0ED6fh7wiBT"
      },
      "id": "c0ED6fh7wiBT"
    },
    {
      "cell_type": "code",
      "source": [
        "# В результате проведенного исследоввания была обработана иформация о 49197 вакансиях, предоставленными 23501 рвботодателями\n",
        "# по 294 сферам деятельности. Если не вдаваться в детали, то болеше всего вакансий, причем наиболее привлекательных по зарплате предоставляют\n",
        "# компании, работающие с данными.\n",
        "# Пожалуй самый важный показатель при выборе вакансии - уровень зарплаты. В связи с этим было бы интересно узнать, какие ключевые навыки дают наибольший прирост\n",
        "# к средней зарплате. Выясним это, сравнением средних зарплат для вакансий, в которых встречаются основные ключевые навыки специалиста DS.\n",
        "# Выбираем нужные столбцы из таблицы vacancies и сохраняем в DataFrame.\n",
        "query_47 = f'''SELECT\n",
        "    v.id,\n",
        "    v.key_skills,\n",
        "    v.salary_from,\n",
        "    v.salary_to\n",
        "FROM\n",
        "    vacancies v\n",
        "WHERE\n",
        "    v.name ILIKE '%data scientist%' OR\n",
        "    v.name ILIKE '%data science%' OR\n",
        "    v.name ILIKE '%исследователь данных%' OR\n",
        "    (v.name ILIKE '%ML%' AND v.name NOT ILIKE '%HTML%') OR\n",
        "    v.name ILIKE '%machine learning%' OR\n",
        "    v.name ILIKE '%машинн%обучен%'\n",
        "'''\n",
        "df47 = pd.read_sql_query(query_47, connection)\n",
        "# Создаем список ключевых навыков\n",
        "skills = ['SQL', 'Python', 'R', 'Pandas', 'Matplotlib']\n",
        "\n",
        "# Создаем столбцы с сответствующими названиями и заполняем их нулями\n",
        "for skill in skills:\n",
        "    df47[skill] = 0\n",
        "\n",
        "# Проверяем наличие ключевых слов и заменяем значения в соответствующем столбце на 1\n",
        "for skill in skills:\n",
        "    df47[skill] = df47['key_skills'].apply(lambda x: 1 if x is not None and skill in x else 0)\n",
        "\n",
        "# Определяем функцию replace_with_salary, которая заменяет значения 1 на среднее значение зарплат\n",
        "# или на одно из значений salary_from или salary_to, если одно из них отсутствует.\n",
        "\n",
        "def replace_with_salary(row, skill):\n",
        "    if row[skill] == 1:\n",
        "        if not pd.isna(row['salary_from']) and not pd.isna(row['salary_to']):\n",
        "            return (row['salary_from'] + row['salary_to']) / 2\n",
        "        elif not pd.isna(row['salary_from']):\n",
        "            return row['salary_from']\n",
        "        elif not pd.isna(row['salary_to']):\n",
        "            return row['salary_to']\n",
        "    return row[skill]\n",
        "# Применяем эту функцию к каждому столбцу навыков.\n",
        "for skill in skills:\n",
        "    df47[skill] = df47.apply(lambda row: replace_with_salary(row, skill), axis=1)\n",
        "# Замена нулей на NaN для корректного подсчета среднего\n",
        "df47[skills] = df47[skills].replace(0, np.nan)\n",
        "df47[skills] = df47[skills].replace(1, np.nan)\n",
        "\n",
        "# Подсчет среднего значения для каждого столбца навыков, игнорируя NaN\n",
        "average_skills = df47[skills].mean(skipna=True)\n",
        "\n",
        "print(\"Средние значения для каждого навыка):\")\n",
        "print(average_skills)"
      ],
      "metadata": {
        "id": "h9B3BL-wwj18",
        "collapsed": true
      },
      "id": "h9B3BL-wwj18",
      "execution_count": null,
      "outputs": []
    },
    {
      "cell_type": "markdown",
      "source": [
        "Итак, наибольшую прибавку в зарплате обеспечивает знание языка R. Причины этого не вполне понятны, для выяснения понадобится дополнительно исследование."
      ],
      "metadata": {
        "id": "2a-V1DWY6oip"
      },
      "id": "2a-V1DWY6oip"
    },
    {
      "cell_type": "code",
      "source": [
        "connection.close()"
      ],
      "metadata": {
        "id": "K97154xb8k95"
      },
      "id": "K97154xb8k95",
      "execution_count": null,
      "outputs": []
    }
  ],
  "metadata": {
    "kernelspec": {
      "display_name": "Python 3 (ipykernel)",
      "language": "python",
      "name": "python3"
    },
    "language_info": {
      "codemirror_mode": {
        "name": "ipython",
        "version": 3
      },
      "file_extension": ".py",
      "mimetype": "text/x-python",
      "name": "python",
      "nbconvert_exporter": "python",
      "pygments_lexer": "ipython3",
      "version": "3.9.7"
    },
    "colab": {
      "provenance": []
    }
  },
  "nbformat": 4,
  "nbformat_minor": 5
}